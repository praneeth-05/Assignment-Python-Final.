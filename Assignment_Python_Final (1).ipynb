{
  "nbformat": 4,
  "nbformat_minor": 0,
  "metadata": {
    "colab": {
      "provenance": []
    },
    "kernelspec": {
      "name": "python3",
      "display_name": "Python 3"
    },
    "language_info": {
      "name": "python"
    }
  },
  "cells": [
    {
      "cell_type": "markdown",
      "source": [
        "importing Libraries"
      ],
      "metadata": {
        "id": "x33RPdVvAYLy"
      }
    },
    {
      "cell_type": "code",
      "execution_count": 227,
      "metadata": {
        "id": "wbaqbSt5snaO"
      },
      "outputs": [],
      "source": [
        "import pandas as pd\n",
        "import seaborn as sns\n",
        "import statsmodels.formula.api as smf\n",
        "from sklearn.linear_model import LinearRegression\n",
        "from sklearn import metrics\n",
        "from sklearn.model_selection import train_test_split\n",
        "import numpy as np\n",
        "import datetime as dt"
      ]
    },
    {
      "cell_type": "markdown",
      "source": [
        "LOading data"
      ],
      "metadata": {
        "id": "PDtxZXOuAg00"
      }
    },
    {
      "cell_type": "code",
      "source": [
        "data=pd.read_excel('assignment_python.xlsx',header=0)\n",
        "data"
      ],
      "metadata": {
        "colab": {
          "base_uri": "https://localhost:8080/",
          "height": 423
        },
        "id": "m0LK0nFet0vV",
        "outputId": "04c5f4f3-8042-4f87-82eb-a155a07129bb"
      },
      "execution_count": 228,
      "outputs": [
        {
          "output_type": "execute_result",
          "data": {
            "text/plain": [
              "       IDCUSTOMER GENDER        CITY COUNTRY  FIRST_DEPOSIT_AMOUNT  \\\n",
              "0         5075649      M      ankara  Turkey                 100.0   \n",
              "1         5176235      M    elazÄ±ÄŸ  Turkey                 400.0   \n",
              "2         5249140      M       izmir  Turkey                 200.0   \n",
              "3         5300998      M   ÃœskÃ¼dar  Turkey                 100.0   \n",
              "4         5371454      M     sakarya  Turkey                 880.0   \n",
              "...           ...    ...         ...     ...                   ...   \n",
              "22060   147844121      M   Ä°stanbul  Turkey                  50.0   \n",
              "22061   147844491      M  EskiÅŸehir  Turkey                  50.0   \n",
              "22062   147846481      M         Van  Turkey                 100.0   \n",
              "22063   147843561      M     Antalya  Turkey                 200.0   \n",
              "22064   147844971      M   Ä°stanbul  Turkey                 150.0   \n",
              "\n",
              "      REGISTRATION_DATE DEPOSIT_DATE  \n",
              "0            2009-01-10   2022-06-05  \n",
              "1            2009-03-01   2022-02-11  \n",
              "2            2009-04-06   2022-05-02  \n",
              "3            2009-05-02   2022-02-11  \n",
              "4            2009-06-07   2022-05-29  \n",
              "...                 ...          ...  \n",
              "22060        2022-08-31   2022-08-31  \n",
              "22061        2022-08-31   2022-08-31  \n",
              "22062        2022-08-31   2022-08-31  \n",
              "22063        2022-08-31   2022-08-31  \n",
              "22064        2022-08-31   2022-08-31  \n",
              "\n",
              "[22065 rows x 7 columns]"
            ],
            "text/html": [
              "\n",
              "\n",
              "  <div id=\"df-df840f1a-7da5-4fb2-9e2c-923324e1cfe1\">\n",
              "    <div class=\"colab-df-container\">\n",
              "      <div>\n",
              "<style scoped>\n",
              "    .dataframe tbody tr th:only-of-type {\n",
              "        vertical-align: middle;\n",
              "    }\n",
              "\n",
              "    .dataframe tbody tr th {\n",
              "        vertical-align: top;\n",
              "    }\n",
              "\n",
              "    .dataframe thead th {\n",
              "        text-align: right;\n",
              "    }\n",
              "</style>\n",
              "<table border=\"1\" class=\"dataframe\">\n",
              "  <thead>\n",
              "    <tr style=\"text-align: right;\">\n",
              "      <th></th>\n",
              "      <th>IDCUSTOMER</th>\n",
              "      <th>GENDER</th>\n",
              "      <th>CITY</th>\n",
              "      <th>COUNTRY</th>\n",
              "      <th>FIRST_DEPOSIT_AMOUNT</th>\n",
              "      <th>REGISTRATION_DATE</th>\n",
              "      <th>DEPOSIT_DATE</th>\n",
              "    </tr>\n",
              "  </thead>\n",
              "  <tbody>\n",
              "    <tr>\n",
              "      <th>0</th>\n",
              "      <td>5075649</td>\n",
              "      <td>M</td>\n",
              "      <td>ankara</td>\n",
              "      <td>Turkey</td>\n",
              "      <td>100.0</td>\n",
              "      <td>2009-01-10</td>\n",
              "      <td>2022-06-05</td>\n",
              "    </tr>\n",
              "    <tr>\n",
              "      <th>1</th>\n",
              "      <td>5176235</td>\n",
              "      <td>M</td>\n",
              "      <td>elazÄ±ÄŸ</td>\n",
              "      <td>Turkey</td>\n",
              "      <td>400.0</td>\n",
              "      <td>2009-03-01</td>\n",
              "      <td>2022-02-11</td>\n",
              "    </tr>\n",
              "    <tr>\n",
              "      <th>2</th>\n",
              "      <td>5249140</td>\n",
              "      <td>M</td>\n",
              "      <td>izmir</td>\n",
              "      <td>Turkey</td>\n",
              "      <td>200.0</td>\n",
              "      <td>2009-04-06</td>\n",
              "      <td>2022-05-02</td>\n",
              "    </tr>\n",
              "    <tr>\n",
              "      <th>3</th>\n",
              "      <td>5300998</td>\n",
              "      <td>M</td>\n",
              "      <td>ÃœskÃ¼dar</td>\n",
              "      <td>Turkey</td>\n",
              "      <td>100.0</td>\n",
              "      <td>2009-05-02</td>\n",
              "      <td>2022-02-11</td>\n",
              "    </tr>\n",
              "    <tr>\n",
              "      <th>4</th>\n",
              "      <td>5371454</td>\n",
              "      <td>M</td>\n",
              "      <td>sakarya</td>\n",
              "      <td>Turkey</td>\n",
              "      <td>880.0</td>\n",
              "      <td>2009-06-07</td>\n",
              "      <td>2022-05-29</td>\n",
              "    </tr>\n",
              "    <tr>\n",
              "      <th>...</th>\n",
              "      <td>...</td>\n",
              "      <td>...</td>\n",
              "      <td>...</td>\n",
              "      <td>...</td>\n",
              "      <td>...</td>\n",
              "      <td>...</td>\n",
              "      <td>...</td>\n",
              "    </tr>\n",
              "    <tr>\n",
              "      <th>22060</th>\n",
              "      <td>147844121</td>\n",
              "      <td>M</td>\n",
              "      <td>Ä°stanbul</td>\n",
              "      <td>Turkey</td>\n",
              "      <td>50.0</td>\n",
              "      <td>2022-08-31</td>\n",
              "      <td>2022-08-31</td>\n",
              "    </tr>\n",
              "    <tr>\n",
              "      <th>22061</th>\n",
              "      <td>147844491</td>\n",
              "      <td>M</td>\n",
              "      <td>EskiÅŸehir</td>\n",
              "      <td>Turkey</td>\n",
              "      <td>50.0</td>\n",
              "      <td>2022-08-31</td>\n",
              "      <td>2022-08-31</td>\n",
              "    </tr>\n",
              "    <tr>\n",
              "      <th>22062</th>\n",
              "      <td>147846481</td>\n",
              "      <td>M</td>\n",
              "      <td>Van</td>\n",
              "      <td>Turkey</td>\n",
              "      <td>100.0</td>\n",
              "      <td>2022-08-31</td>\n",
              "      <td>2022-08-31</td>\n",
              "    </tr>\n",
              "    <tr>\n",
              "      <th>22063</th>\n",
              "      <td>147843561</td>\n",
              "      <td>M</td>\n",
              "      <td>Antalya</td>\n",
              "      <td>Turkey</td>\n",
              "      <td>200.0</td>\n",
              "      <td>2022-08-31</td>\n",
              "      <td>2022-08-31</td>\n",
              "    </tr>\n",
              "    <tr>\n",
              "      <th>22064</th>\n",
              "      <td>147844971</td>\n",
              "      <td>M</td>\n",
              "      <td>Ä°stanbul</td>\n",
              "      <td>Turkey</td>\n",
              "      <td>150.0</td>\n",
              "      <td>2022-08-31</td>\n",
              "      <td>2022-08-31</td>\n",
              "    </tr>\n",
              "  </tbody>\n",
              "</table>\n",
              "<p>22065 rows × 7 columns</p>\n",
              "</div>\n",
              "      <button class=\"colab-df-convert\" onclick=\"convertToInteractive('df-df840f1a-7da5-4fb2-9e2c-923324e1cfe1')\"\n",
              "              title=\"Convert this dataframe to an interactive table.\"\n",
              "              style=\"display:none;\">\n",
              "\n",
              "  <svg xmlns=\"http://www.w3.org/2000/svg\" height=\"24px\"viewBox=\"0 0 24 24\"\n",
              "       width=\"24px\">\n",
              "    <path d=\"M0 0h24v24H0V0z\" fill=\"none\"/>\n",
              "    <path d=\"M18.56 5.44l.94 2.06.94-2.06 2.06-.94-2.06-.94-.94-2.06-.94 2.06-2.06.94zm-11 1L8.5 8.5l.94-2.06 2.06-.94-2.06-.94L8.5 2.5l-.94 2.06-2.06.94zm10 10l.94 2.06.94-2.06 2.06-.94-2.06-.94-.94-2.06-.94 2.06-2.06.94z\"/><path d=\"M17.41 7.96l-1.37-1.37c-.4-.4-.92-.59-1.43-.59-.52 0-1.04.2-1.43.59L10.3 9.45l-7.72 7.72c-.78.78-.78 2.05 0 2.83L4 21.41c.39.39.9.59 1.41.59.51 0 1.02-.2 1.41-.59l7.78-7.78 2.81-2.81c.8-.78.8-2.07 0-2.86zM5.41 20L4 18.59l7.72-7.72 1.47 1.35L5.41 20z\"/>\n",
              "  </svg>\n",
              "      </button>\n",
              "\n",
              "\n",
              "\n",
              "    <div id=\"df-439018c0-f597-4310-b919-16dc9be6bade\">\n",
              "      <button class=\"colab-df-quickchart\" onclick=\"quickchart('df-439018c0-f597-4310-b919-16dc9be6bade')\"\n",
              "              title=\"Suggest charts.\"\n",
              "              style=\"display:none;\">\n",
              "\n",
              "<svg xmlns=\"http://www.w3.org/2000/svg\" height=\"24px\"viewBox=\"0 0 24 24\"\n",
              "     width=\"24px\">\n",
              "    <g>\n",
              "        <path d=\"M19 3H5c-1.1 0-2 .9-2 2v14c0 1.1.9 2 2 2h14c1.1 0 2-.9 2-2V5c0-1.1-.9-2-2-2zM9 17H7v-7h2v7zm4 0h-2V7h2v10zm4 0h-2v-4h2v4z\"/>\n",
              "    </g>\n",
              "</svg>\n",
              "      </button>\n",
              "    </div>\n",
              "\n",
              "<style>\n",
              "  .colab-df-quickchart {\n",
              "    background-color: #E8F0FE;\n",
              "    border: none;\n",
              "    border-radius: 50%;\n",
              "    cursor: pointer;\n",
              "    display: none;\n",
              "    fill: #1967D2;\n",
              "    height: 32px;\n",
              "    padding: 0 0 0 0;\n",
              "    width: 32px;\n",
              "  }\n",
              "\n",
              "  .colab-df-quickchart:hover {\n",
              "    background-color: #E2EBFA;\n",
              "    box-shadow: 0px 1px 2px rgba(60, 64, 67, 0.3), 0px 1px 3px 1px rgba(60, 64, 67, 0.15);\n",
              "    fill: #174EA6;\n",
              "  }\n",
              "\n",
              "  [theme=dark] .colab-df-quickchart {\n",
              "    background-color: #3B4455;\n",
              "    fill: #D2E3FC;\n",
              "  }\n",
              "\n",
              "  [theme=dark] .colab-df-quickchart:hover {\n",
              "    background-color: #434B5C;\n",
              "    box-shadow: 0px 1px 3px 1px rgba(0, 0, 0, 0.15);\n",
              "    filter: drop-shadow(0px 1px 2px rgba(0, 0, 0, 0.3));\n",
              "    fill: #FFFFFF;\n",
              "  }\n",
              "</style>\n",
              "\n",
              "    <script>\n",
              "      async function quickchart(key) {\n",
              "        const containerElement = document.querySelector('#' + key);\n",
              "        const charts = await google.colab.kernel.invokeFunction(\n",
              "            'suggestCharts', [key], {});\n",
              "      }\n",
              "    </script>\n",
              "\n",
              "      <script>\n",
              "\n",
              "function displayQuickchartButton(domScope) {\n",
              "  let quickchartButtonEl =\n",
              "    domScope.querySelector('#df-439018c0-f597-4310-b919-16dc9be6bade button.colab-df-quickchart');\n",
              "  quickchartButtonEl.style.display =\n",
              "    google.colab.kernel.accessAllowed ? 'block' : 'none';\n",
              "}\n",
              "\n",
              "        displayQuickchartButton(document);\n",
              "      </script>\n",
              "      <style>\n",
              "    .colab-df-container {\n",
              "      display:flex;\n",
              "      flex-wrap:wrap;\n",
              "      gap: 12px;\n",
              "    }\n",
              "\n",
              "    .colab-df-convert {\n",
              "      background-color: #E8F0FE;\n",
              "      border: none;\n",
              "      border-radius: 50%;\n",
              "      cursor: pointer;\n",
              "      display: none;\n",
              "      fill: #1967D2;\n",
              "      height: 32px;\n",
              "      padding: 0 0 0 0;\n",
              "      width: 32px;\n",
              "    }\n",
              "\n",
              "    .colab-df-convert:hover {\n",
              "      background-color: #E2EBFA;\n",
              "      box-shadow: 0px 1px 2px rgba(60, 64, 67, 0.3), 0px 1px 3px 1px rgba(60, 64, 67, 0.15);\n",
              "      fill: #174EA6;\n",
              "    }\n",
              "\n",
              "    [theme=dark] .colab-df-convert {\n",
              "      background-color: #3B4455;\n",
              "      fill: #D2E3FC;\n",
              "    }\n",
              "\n",
              "    [theme=dark] .colab-df-convert:hover {\n",
              "      background-color: #434B5C;\n",
              "      box-shadow: 0px 1px 3px 1px rgba(0, 0, 0, 0.15);\n",
              "      filter: drop-shadow(0px 1px 2px rgba(0, 0, 0, 0.3));\n",
              "      fill: #FFFFFF;\n",
              "    }\n",
              "  </style>\n",
              "\n",
              "      <script>\n",
              "        const buttonEl =\n",
              "          document.querySelector('#df-df840f1a-7da5-4fb2-9e2c-923324e1cfe1 button.colab-df-convert');\n",
              "        buttonEl.style.display =\n",
              "          google.colab.kernel.accessAllowed ? 'block' : 'none';\n",
              "\n",
              "        async function convertToInteractive(key) {\n",
              "          const element = document.querySelector('#df-df840f1a-7da5-4fb2-9e2c-923324e1cfe1');\n",
              "          const dataTable =\n",
              "            await google.colab.kernel.invokeFunction('convertToInteractive',\n",
              "                                                     [key], {});\n",
              "          if (!dataTable) return;\n",
              "\n",
              "          const docLinkHtml = 'Like what you see? Visit the ' +\n",
              "            '<a target=\"_blank\" href=https://colab.research.google.com/notebooks/data_table.ipynb>data table notebook</a>'\n",
              "            + ' to learn more about interactive tables.';\n",
              "          element.innerHTML = '';\n",
              "          dataTable['output_type'] = 'display_data';\n",
              "          await google.colab.output.renderOutput(dataTable, element);\n",
              "          const docLink = document.createElement('div');\n",
              "          docLink.innerHTML = docLinkHtml;\n",
              "          element.appendChild(docLink);\n",
              "        }\n",
              "      </script>\n",
              "    </div>\n",
              "  </div>\n"
            ]
          },
          "metadata": {},
          "execution_count": 228
        }
      ]
    },
    {
      "cell_type": "code",
      "source": [
        "data.to_csv('assignment_python.csv', index=False)\n",
        "data"
      ],
      "metadata": {
        "colab": {
          "base_uri": "https://localhost:8080/",
          "height": 423
        },
        "id": "U4s1am2bCE7v",
        "outputId": "719326f6-3835-4dbc-cf8e-a972a443a4fe"
      },
      "execution_count": 229,
      "outputs": [
        {
          "output_type": "execute_result",
          "data": {
            "text/plain": [
              "       IDCUSTOMER GENDER        CITY COUNTRY  FIRST_DEPOSIT_AMOUNT  \\\n",
              "0         5075649      M      ankara  Turkey                 100.0   \n",
              "1         5176235      M    elazÄ±ÄŸ  Turkey                 400.0   \n",
              "2         5249140      M       izmir  Turkey                 200.0   \n",
              "3         5300998      M   ÃœskÃ¼dar  Turkey                 100.0   \n",
              "4         5371454      M     sakarya  Turkey                 880.0   \n",
              "...           ...    ...         ...     ...                   ...   \n",
              "22060   147844121      M   Ä°stanbul  Turkey                  50.0   \n",
              "22061   147844491      M  EskiÅŸehir  Turkey                  50.0   \n",
              "22062   147846481      M         Van  Turkey                 100.0   \n",
              "22063   147843561      M     Antalya  Turkey                 200.0   \n",
              "22064   147844971      M   Ä°stanbul  Turkey                 150.0   \n",
              "\n",
              "      REGISTRATION_DATE DEPOSIT_DATE  \n",
              "0            2009-01-10   2022-06-05  \n",
              "1            2009-03-01   2022-02-11  \n",
              "2            2009-04-06   2022-05-02  \n",
              "3            2009-05-02   2022-02-11  \n",
              "4            2009-06-07   2022-05-29  \n",
              "...                 ...          ...  \n",
              "22060        2022-08-31   2022-08-31  \n",
              "22061        2022-08-31   2022-08-31  \n",
              "22062        2022-08-31   2022-08-31  \n",
              "22063        2022-08-31   2022-08-31  \n",
              "22064        2022-08-31   2022-08-31  \n",
              "\n",
              "[22065 rows x 7 columns]"
            ],
            "text/html": [
              "\n",
              "\n",
              "  <div id=\"df-44df3e92-a1d6-4e5e-82d1-911327ab2389\">\n",
              "    <div class=\"colab-df-container\">\n",
              "      <div>\n",
              "<style scoped>\n",
              "    .dataframe tbody tr th:only-of-type {\n",
              "        vertical-align: middle;\n",
              "    }\n",
              "\n",
              "    .dataframe tbody tr th {\n",
              "        vertical-align: top;\n",
              "    }\n",
              "\n",
              "    .dataframe thead th {\n",
              "        text-align: right;\n",
              "    }\n",
              "</style>\n",
              "<table border=\"1\" class=\"dataframe\">\n",
              "  <thead>\n",
              "    <tr style=\"text-align: right;\">\n",
              "      <th></th>\n",
              "      <th>IDCUSTOMER</th>\n",
              "      <th>GENDER</th>\n",
              "      <th>CITY</th>\n",
              "      <th>COUNTRY</th>\n",
              "      <th>FIRST_DEPOSIT_AMOUNT</th>\n",
              "      <th>REGISTRATION_DATE</th>\n",
              "      <th>DEPOSIT_DATE</th>\n",
              "    </tr>\n",
              "  </thead>\n",
              "  <tbody>\n",
              "    <tr>\n",
              "      <th>0</th>\n",
              "      <td>5075649</td>\n",
              "      <td>M</td>\n",
              "      <td>ankara</td>\n",
              "      <td>Turkey</td>\n",
              "      <td>100.0</td>\n",
              "      <td>2009-01-10</td>\n",
              "      <td>2022-06-05</td>\n",
              "    </tr>\n",
              "    <tr>\n",
              "      <th>1</th>\n",
              "      <td>5176235</td>\n",
              "      <td>M</td>\n",
              "      <td>elazÄ±ÄŸ</td>\n",
              "      <td>Turkey</td>\n",
              "      <td>400.0</td>\n",
              "      <td>2009-03-01</td>\n",
              "      <td>2022-02-11</td>\n",
              "    </tr>\n",
              "    <tr>\n",
              "      <th>2</th>\n",
              "      <td>5249140</td>\n",
              "      <td>M</td>\n",
              "      <td>izmir</td>\n",
              "      <td>Turkey</td>\n",
              "      <td>200.0</td>\n",
              "      <td>2009-04-06</td>\n",
              "      <td>2022-05-02</td>\n",
              "    </tr>\n",
              "    <tr>\n",
              "      <th>3</th>\n",
              "      <td>5300998</td>\n",
              "      <td>M</td>\n",
              "      <td>ÃœskÃ¼dar</td>\n",
              "      <td>Turkey</td>\n",
              "      <td>100.0</td>\n",
              "      <td>2009-05-02</td>\n",
              "      <td>2022-02-11</td>\n",
              "    </tr>\n",
              "    <tr>\n",
              "      <th>4</th>\n",
              "      <td>5371454</td>\n",
              "      <td>M</td>\n",
              "      <td>sakarya</td>\n",
              "      <td>Turkey</td>\n",
              "      <td>880.0</td>\n",
              "      <td>2009-06-07</td>\n",
              "      <td>2022-05-29</td>\n",
              "    </tr>\n",
              "    <tr>\n",
              "      <th>...</th>\n",
              "      <td>...</td>\n",
              "      <td>...</td>\n",
              "      <td>...</td>\n",
              "      <td>...</td>\n",
              "      <td>...</td>\n",
              "      <td>...</td>\n",
              "      <td>...</td>\n",
              "    </tr>\n",
              "    <tr>\n",
              "      <th>22060</th>\n",
              "      <td>147844121</td>\n",
              "      <td>M</td>\n",
              "      <td>Ä°stanbul</td>\n",
              "      <td>Turkey</td>\n",
              "      <td>50.0</td>\n",
              "      <td>2022-08-31</td>\n",
              "      <td>2022-08-31</td>\n",
              "    </tr>\n",
              "    <tr>\n",
              "      <th>22061</th>\n",
              "      <td>147844491</td>\n",
              "      <td>M</td>\n",
              "      <td>EskiÅŸehir</td>\n",
              "      <td>Turkey</td>\n",
              "      <td>50.0</td>\n",
              "      <td>2022-08-31</td>\n",
              "      <td>2022-08-31</td>\n",
              "    </tr>\n",
              "    <tr>\n",
              "      <th>22062</th>\n",
              "      <td>147846481</td>\n",
              "      <td>M</td>\n",
              "      <td>Van</td>\n",
              "      <td>Turkey</td>\n",
              "      <td>100.0</td>\n",
              "      <td>2022-08-31</td>\n",
              "      <td>2022-08-31</td>\n",
              "    </tr>\n",
              "    <tr>\n",
              "      <th>22063</th>\n",
              "      <td>147843561</td>\n",
              "      <td>M</td>\n",
              "      <td>Antalya</td>\n",
              "      <td>Turkey</td>\n",
              "      <td>200.0</td>\n",
              "      <td>2022-08-31</td>\n",
              "      <td>2022-08-31</td>\n",
              "    </tr>\n",
              "    <tr>\n",
              "      <th>22064</th>\n",
              "      <td>147844971</td>\n",
              "      <td>M</td>\n",
              "      <td>Ä°stanbul</td>\n",
              "      <td>Turkey</td>\n",
              "      <td>150.0</td>\n",
              "      <td>2022-08-31</td>\n",
              "      <td>2022-08-31</td>\n",
              "    </tr>\n",
              "  </tbody>\n",
              "</table>\n",
              "<p>22065 rows × 7 columns</p>\n",
              "</div>\n",
              "      <button class=\"colab-df-convert\" onclick=\"convertToInteractive('df-44df3e92-a1d6-4e5e-82d1-911327ab2389')\"\n",
              "              title=\"Convert this dataframe to an interactive table.\"\n",
              "              style=\"display:none;\">\n",
              "\n",
              "  <svg xmlns=\"http://www.w3.org/2000/svg\" height=\"24px\"viewBox=\"0 0 24 24\"\n",
              "       width=\"24px\">\n",
              "    <path d=\"M0 0h24v24H0V0z\" fill=\"none\"/>\n",
              "    <path d=\"M18.56 5.44l.94 2.06.94-2.06 2.06-.94-2.06-.94-.94-2.06-.94 2.06-2.06.94zm-11 1L8.5 8.5l.94-2.06 2.06-.94-2.06-.94L8.5 2.5l-.94 2.06-2.06.94zm10 10l.94 2.06.94-2.06 2.06-.94-2.06-.94-.94-2.06-.94 2.06-2.06.94z\"/><path d=\"M17.41 7.96l-1.37-1.37c-.4-.4-.92-.59-1.43-.59-.52 0-1.04.2-1.43.59L10.3 9.45l-7.72 7.72c-.78.78-.78 2.05 0 2.83L4 21.41c.39.39.9.59 1.41.59.51 0 1.02-.2 1.41-.59l7.78-7.78 2.81-2.81c.8-.78.8-2.07 0-2.86zM5.41 20L4 18.59l7.72-7.72 1.47 1.35L5.41 20z\"/>\n",
              "  </svg>\n",
              "      </button>\n",
              "\n",
              "\n",
              "\n",
              "    <div id=\"df-b719ad94-1dcb-4c3f-b125-1c9126503d01\">\n",
              "      <button class=\"colab-df-quickchart\" onclick=\"quickchart('df-b719ad94-1dcb-4c3f-b125-1c9126503d01')\"\n",
              "              title=\"Suggest charts.\"\n",
              "              style=\"display:none;\">\n",
              "\n",
              "<svg xmlns=\"http://www.w3.org/2000/svg\" height=\"24px\"viewBox=\"0 0 24 24\"\n",
              "     width=\"24px\">\n",
              "    <g>\n",
              "        <path d=\"M19 3H5c-1.1 0-2 .9-2 2v14c0 1.1.9 2 2 2h14c1.1 0 2-.9 2-2V5c0-1.1-.9-2-2-2zM9 17H7v-7h2v7zm4 0h-2V7h2v10zm4 0h-2v-4h2v4z\"/>\n",
              "    </g>\n",
              "</svg>\n",
              "      </button>\n",
              "    </div>\n",
              "\n",
              "<style>\n",
              "  .colab-df-quickchart {\n",
              "    background-color: #E8F0FE;\n",
              "    border: none;\n",
              "    border-radius: 50%;\n",
              "    cursor: pointer;\n",
              "    display: none;\n",
              "    fill: #1967D2;\n",
              "    height: 32px;\n",
              "    padding: 0 0 0 0;\n",
              "    width: 32px;\n",
              "  }\n",
              "\n",
              "  .colab-df-quickchart:hover {\n",
              "    background-color: #E2EBFA;\n",
              "    box-shadow: 0px 1px 2px rgba(60, 64, 67, 0.3), 0px 1px 3px 1px rgba(60, 64, 67, 0.15);\n",
              "    fill: #174EA6;\n",
              "  }\n",
              "\n",
              "  [theme=dark] .colab-df-quickchart {\n",
              "    background-color: #3B4455;\n",
              "    fill: #D2E3FC;\n",
              "  }\n",
              "\n",
              "  [theme=dark] .colab-df-quickchart:hover {\n",
              "    background-color: #434B5C;\n",
              "    box-shadow: 0px 1px 3px 1px rgba(0, 0, 0, 0.15);\n",
              "    filter: drop-shadow(0px 1px 2px rgba(0, 0, 0, 0.3));\n",
              "    fill: #FFFFFF;\n",
              "  }\n",
              "</style>\n",
              "\n",
              "    <script>\n",
              "      async function quickchart(key) {\n",
              "        const containerElement = document.querySelector('#' + key);\n",
              "        const charts = await google.colab.kernel.invokeFunction(\n",
              "            'suggestCharts', [key], {});\n",
              "      }\n",
              "    </script>\n",
              "\n",
              "      <script>\n",
              "\n",
              "function displayQuickchartButton(domScope) {\n",
              "  let quickchartButtonEl =\n",
              "    domScope.querySelector('#df-b719ad94-1dcb-4c3f-b125-1c9126503d01 button.colab-df-quickchart');\n",
              "  quickchartButtonEl.style.display =\n",
              "    google.colab.kernel.accessAllowed ? 'block' : 'none';\n",
              "}\n",
              "\n",
              "        displayQuickchartButton(document);\n",
              "      </script>\n",
              "      <style>\n",
              "    .colab-df-container {\n",
              "      display:flex;\n",
              "      flex-wrap:wrap;\n",
              "      gap: 12px;\n",
              "    }\n",
              "\n",
              "    .colab-df-convert {\n",
              "      background-color: #E8F0FE;\n",
              "      border: none;\n",
              "      border-radius: 50%;\n",
              "      cursor: pointer;\n",
              "      display: none;\n",
              "      fill: #1967D2;\n",
              "      height: 32px;\n",
              "      padding: 0 0 0 0;\n",
              "      width: 32px;\n",
              "    }\n",
              "\n",
              "    .colab-df-convert:hover {\n",
              "      background-color: #E2EBFA;\n",
              "      box-shadow: 0px 1px 2px rgba(60, 64, 67, 0.3), 0px 1px 3px 1px rgba(60, 64, 67, 0.15);\n",
              "      fill: #174EA6;\n",
              "    }\n",
              "\n",
              "    [theme=dark] .colab-df-convert {\n",
              "      background-color: #3B4455;\n",
              "      fill: #D2E3FC;\n",
              "    }\n",
              "\n",
              "    [theme=dark] .colab-df-convert:hover {\n",
              "      background-color: #434B5C;\n",
              "      box-shadow: 0px 1px 3px 1px rgba(0, 0, 0, 0.15);\n",
              "      filter: drop-shadow(0px 1px 2px rgba(0, 0, 0, 0.3));\n",
              "      fill: #FFFFFF;\n",
              "    }\n",
              "  </style>\n",
              "\n",
              "      <script>\n",
              "        const buttonEl =\n",
              "          document.querySelector('#df-44df3e92-a1d6-4e5e-82d1-911327ab2389 button.colab-df-convert');\n",
              "        buttonEl.style.display =\n",
              "          google.colab.kernel.accessAllowed ? 'block' : 'none';\n",
              "\n",
              "        async function convertToInteractive(key) {\n",
              "          const element = document.querySelector('#df-44df3e92-a1d6-4e5e-82d1-911327ab2389');\n",
              "          const dataTable =\n",
              "            await google.colab.kernel.invokeFunction('convertToInteractive',\n",
              "                                                     [key], {});\n",
              "          if (!dataTable) return;\n",
              "\n",
              "          const docLinkHtml = 'Like what you see? Visit the ' +\n",
              "            '<a target=\"_blank\" href=https://colab.research.google.com/notebooks/data_table.ipynb>data table notebook</a>'\n",
              "            + ' to learn more about interactive tables.';\n",
              "          element.innerHTML = '';\n",
              "          dataTable['output_type'] = 'display_data';\n",
              "          await google.colab.output.renderOutput(dataTable, element);\n",
              "          const docLink = document.createElement('div');\n",
              "          docLink.innerHTML = docLinkHtml;\n",
              "          element.appendChild(docLink);\n",
              "        }\n",
              "      </script>\n",
              "    </div>\n",
              "  </div>\n"
            ]
          },
          "metadata": {},
          "execution_count": 229
        }
      ]
    },
    {
      "cell_type": "code",
      "source": [
        "data.isna().sum()"
      ],
      "metadata": {
        "colab": {
          "base_uri": "https://localhost:8080/"
        },
        "id": "whmH70ns1kRA",
        "outputId": "cb7775b6-ea83-4497-a815-bf6c4689a7ca"
      },
      "execution_count": 230,
      "outputs": [
        {
          "output_type": "execute_result",
          "data": {
            "text/plain": [
              "IDCUSTOMER              0\n",
              "GENDER                  0\n",
              "CITY                    0\n",
              "COUNTRY                 0\n",
              "FIRST_DEPOSIT_AMOUNT    0\n",
              "REGISTRATION_DATE       0\n",
              "DEPOSIT_DATE            0\n",
              "dtype: int64"
            ]
          },
          "metadata": {},
          "execution_count": 230
        }
      ]
    },
    {
      "cell_type": "code",
      "source": [
        "np.mean(data[\"FIRST_DEPOSIT_AMOUNT\"])"
      ],
      "metadata": {
        "colab": {
          "base_uri": "https://localhost:8080/"
        },
        "id": "9h0QuXNqWNL-",
        "outputId": "cfb57226-dea6-4828-a809-ac5f1966a514"
      },
      "execution_count": 231,
      "outputs": [
        {
          "output_type": "execute_result",
          "data": {
            "text/plain": [
              "284.80652979832314"
            ]
          },
          "metadata": {},
          "execution_count": 231
        }
      ]
    },
    {
      "cell_type": "code",
      "source": [
        "data.shape"
      ],
      "metadata": {
        "colab": {
          "base_uri": "https://localhost:8080/"
        },
        "id": "RpzwI3as1kOh",
        "outputId": "8635733c-e661-443b-a9af-989309214644"
      },
      "execution_count": 232,
      "outputs": [
        {
          "output_type": "execute_result",
          "data": {
            "text/plain": [
              "(22065, 7)"
            ]
          },
          "metadata": {},
          "execution_count": 232
        }
      ]
    },
    {
      "cell_type": "code",
      "source": [
        "for i in range(data.shape[1]):\n",
        "    print(data.iloc[:,i].unique())"
      ],
      "metadata": {
        "colab": {
          "base_uri": "https://localhost:8080/"
        },
        "id": "SnPixB7w1kME",
        "outputId": "52fb754c-d684-4e73-ab4c-fd9a0b05755c"
      },
      "execution_count": 236,
      "outputs": [
        {
          "output_type": "stream",
          "name": "stdout",
          "text": [
            "[  5075649   5176235   5249140 ... 147846481 147843561 147844971]\n",
            "['M' 'F' 'M  ']\n",
            "['ankara' 'elazÄ±ÄŸ' 'izmir' 'ÃœskÃ¼dar' 'sakarya' 'ANKARA'\n",
            " 'hatay antakya' 'Ä°stanbul' 'antalya' 'tekirdaÄŸ Ã§orlu'\n",
            " 'istanbul kadikÃ¶y' 'milas' 'eskÄ±sehÄ±r' 'KahramanmaraÅŸ'\n",
            " 'KIRKLARELÄ° LULEBURGAZ' 'Hatay' 'Mersin' 'yalova' 'SAKARYA AKYAZI'\n",
            " 'Ä°stinye SarÄ±yer' 'BÃœYÃœKÃ‡EKMECE' 'hatay' 'Ä°STANBUL' 'konya'\n",
            " 'istanbul fatih' 'Ankara' 'MERKEZ' 'bayraklÄ±' 'istanbul' 'kayseri'\n",
            " 'merkez' 'lara/antalya' 'KeÃ§iÃ¶ren' 'SÄ°NCAN/ANKARA' 'bahÃ§elievler'\n",
            " 'istanbul maltepe' 'izmir menemen' 'gebze' 'Rize' 'yÄ±ldÄ±rÄ±m'\n",
            " 'sanliurfa' 'mecidiyekÃ¶y' 'van' 'esenler' 'EDÄ°RNE'\n",
            " 'beÅŸiktaÅŸ/istanbul' 'alsancak' 'konya selcuklu' 'muÄŸla'\n",
            " 'istanbul / zeytinburnu' 'adana/Ã§ukurova' 'Ã§ankÄ±rÄ±' 'Ã‡anakkale'\n",
            " 'zeytinburnu' 'mimsin- kayseri' 'kumluca' 'KÄ±zÄ±ltepe' 'bayrampasa'\n",
            " 'afyon' 'TOKAT/Turhal' 'ANTALYA' 'k,maraÅŸ /elbistan' 'Meram'\n",
            " 'Ä°ZMÄ°R -- FOÃ‡A' 'Burdur' 'Trabzon' 'BAÅžAKÅžEHÄ°R/Ä°STANBUL'\n",
            " 'izmir/konak' 'Kocaeli' 'istanbul kartal' 'Ä°zmir Konak' 'Manisa'\n",
            " 'manisa merkez' 'didim/aydÄ±n' 'GÃ¼mÃ¼ÅŸhane/merkez' 'bilecik/merkez'\n",
            " 'Antalya' 'Sisli / Istanbul' 'yeniÅŸehir' 'ankara/altÄ±ndaÄŸ'\n",
            " 'KAHRAMANMARAÅž' 'Ä°zmir' 'AydÄ±n/naziLLi' ' ' 'yeniÅŸehir/MERSÄ°N'\n",
            " 'bilecik/bozÃ¼yÃ¼k' 'Bursa' 'ÅŸanlÄ±urfa' 'diyarbakÄ±r' 'elbistan'\n",
            " 'KeÃ§iÃ¶ren / Ankara' 'ordu/Ã¼nye' 'BaÅŸakÅŸehir'\n",
            " 'istanbuk/kÃ¼Ã§Ã¼kÃ§ekmece' 'istanbu' 'siirt' 'istanbul buyukcekmece'\n",
            " 'izmir/bornova' 'izmir / Buca' 'gÃ¶lbaÅŸÄ±' 'ankara mamak'\n",
            " 'Ä°stanbul/Sultangazi' 'istanbul bahÃ§elievler' 'Avsallar'\n",
            " 'diyarbakÄ±r / baÄŸlar' 'buyukcekmece ISTANBUL' 'yalvac' 'hatay/antakya'\n",
            " 'tarsus' 'YEÅžÄ°LOVA / BURDUR' 'Ã§ubuk' 'BalÄ±kesir' 'MuÄŸla' 'AydÄ±n'\n",
            " 'diyarbakÄ±r yeniÅŸehir' 'sinop/gerze' 'istanbul/beykoz'\n",
            " 'merkez/kÃ¼tahya' 'Zeytinburnu-Ä°st.' 'merkez/edirne' 'Erzurum Yakutiye '\n",
            " 'istanbul\\\\Ã¼skÃ¼dar' 'diyarbakÄ±r/baÄŸlar' 'edirne keÅŸan'\n",
            " 'izmir bornova' 'ksk' 'istanbul/sarÄ±yer' 'DiyarbakÄ±r'\n",
            " 'Ã§orlu tekirdaÄŸ' 'gaziantep   ÅŸehitkamil' 'PENDÄ°K' 'fethiye-mugla'\n",
            " 'KarÅŸÄ±yaka' 'kocaeli/izmit' 'malatya/temelli' 'antalya kumluca'\n",
            " 'ordu/fatsa' 'muratli/tekirdag' 'kocaeli izmit' 'esenyurt istanbul'\n",
            " 'Ã‡orum' 'Kayseri' 'Ä°STANBUL/EYÃœP' 'kocaeli' 'Ä°stanbul/BahÃ§elievler'\n",
            " 'Denizli/Merkez' 'SORGUN' 'antalya/muratpaÅŸa' 'yeniÅŸehir/d.bakÄ±r'\n",
            " 'muratpaÅŸa/antalya' 'DiyarbakÄ±r silvan' 'BartÄ±n MERKEZ'\n",
            " 'konya/selÃ§uklu' 'istanbul/kaÄŸÄ±thane' 'adana' 'vezirkoprÃ¼'\n",
            " 'izmir tire' 'ordu' 'Esenler' 'TepebaÅŸÄ±/EskiÅŸehir' 'TekirdaÄŸ' 'bursa'\n",
            " 'istanbul/zeytinburnu' 'zeytinburnu ' 'mersin' 'Ankara / Yenimahalle'\n",
            " 'Ä°ZMÄ°R' 'fatsa' 'Sakarya' 'eskiÅŸehir' 'konya-selÃ§uklu'\n",
            " 'bursa iznik yesÄ±lcami mh karaca skk' 'zonguldak/eregli'\n",
            " 'Pursaklar/ankara' 'samsun' 'Sivas' 'trabzon' 'istanbul gaziosmanpasa'\n",
            " 'kocaeli/derince' 'Kocaeli golcuk' 'ankara ' 'trabzÃ¶n' 'TekirdaÄŸ '\n",
            " 'GÃ¼neÅŸ Apt Blok No:22 Ä°Ã§ KapÄ± No:8 Ã‡ankaya Ankara' 'nazilli'\n",
            " 'istanbul_tuzla' 'BALIKESÄ°R' 'ÅŸÄ±rnak cizre' 'bornova' 'PerÅŸembe ordu'\n",
            " 'Antakya' 'Bursa Karacabey' 'Fethiyr' 'aksaray' 'GÃ¼ngÃ¶ren' 'C'\n",
            " 'adÄ±yaman' 'Konya' 'Bitlis' 'Osmaniye' 'IÄŸdÄ±r' 'Zonguldak'\n",
            " 'KÄ±rÄ±kkale' 'Gaziantep' 'Bilecik' 'Erzurum' 'Kemalpasa / Ä°zmir'\n",
            " 'ÅžanlÄ±urfa' 'Adana' 'AdÄ±yaman' 'NiÄŸde' 'Amasya' 'Edirne' 'Giresun'\n",
            " 'GÃ¼mÃ¼ÅŸhane' 'Batman' 'Artvin' 'AÄŸrÄ±' 'BartÄ±n' 'Ordu' 'BingÃ¶l'\n",
            " 'DÃ¼zce' 'Mardin' 'Samsun' 'Tokat' 'Malatya' 'Karaman' 'Bolu' 'ElazÄ±ÄŸ'\n",
            " 'Kastamonu' 'EskiÅŸehir' 'Denizli' 'KarabÃ¼k' 'Sinop' 'Hakkari' 'Aksaray'\n",
            " 'Siirt' 'Isparta' 'Van' 'GÃœLAÄžAÃ‡ / AKSARAY' 'Erzincan' 'KÄ±rklareli'\n",
            " 'Afyonkarahisar' 'Diyarbakir' 'ÅžÄ±rnak' 'KÃ¼tahya' 'Yalova' 'KÄ±rÅŸehir'\n",
            " 'UÅŸak' 'germencik/AydÄ±n' 'Kars' 'MuÅŸ' 'NevÅŸehir' 'KONYA/ILGIN'\n",
            " 'malatya' 'Kocasinan/Kayseri' 'Kilis' 'amasya' 'Tunceli'\n",
            " 'BalÄ±kesir/BandÄ±rma' 'Bayburt' 'Ã‡ankÄ±rÄ±' 'Seyhan/Adana'\n",
            " 'seferihisar/ Ä°zmir' 'AvcÄ±lar/Ä°stanbul' 'Yozgat' 'batman'\n",
            " 'Fatih/Ä°stanbul' 'Beykoz - Ä°stanbul' 'ataÅŸehir istanbul' 'batum'\n",
            " 'kÄ±brÄ±s' 'Ã‡ANKAYA/ANKARA' 'dfagdfgadgaddfg' 'Kozan/Adana'\n",
            " 'Ä°stanbul/bahÃ§elievler' 'dÃ¼zce'\n",
            " 'gÃ¼neÅŸ apt Blok no 22 iÃ§ kapÄ± no 8 Ankara Ã‡ankaya' 'sarÄ±Ã§am/Adana'\n",
            " 1212 'Samsun/Bafra' 'ÃœskÃ¼dar/Ä°STANBUL' 'Ardahan'\n",
            " 'kaÄŸÄ±thane istanbul' 'Ä°LKADIM/SAMSUN' 'Antalya/MuratpaÅŸa'\n",
            " 'GERÃ‡ÃœÅž/BATMAN' 'Ä°ZMÄ°R/karÅŸÄ±yaka' 'Van/Ä°pekyolu' 'edirne'\n",
            " 'balÄ±kkesir' 'altÄ±ndaÄŸ Ankara' 'karasu/sakarya' 'KaÅŸ/Antalya'\n",
            " 'TOKLU MAHALLESÄ° TRABZON ORTAHÄ°SAR' 'Konya Emirgazi'\n",
            " 'Maltepe / Ä°stanbul' 'BaÄŸlar/DiyarbakÄ±r' 'Ankara/Ã‡ankaya'\n",
            " 'yeniÅŸehir/Mersin' 'SarÄ±yer Ä°stanbul' 'asdas' 'Beykoz/ Istanbul'\n",
            " 'GÃ¶lpazarÄ±/Bilecik' 'GÃ–LBAÅžI' 'JdhsÄ±sus' 'Gebze /KOCAELÄ°'\n",
            " 'SERÄ°K ANTALYA' 'Kulp /Diyarbakir' 'Alanya /Antalya' 'Kepez Antalya'\n",
            " 'Atasehir -Ä°stanbul' 'sdasd' 'srfdgfdgdf' 'tekirdaÄŸ' 'dfsadf'\n",
            " 'GAZÄ°PAÅžA' 'Yenimahalle Ankara' 'Ankara/ Yeni mahalle' 'Buca'\n",
            " 'EskiÅŸehir / ODUNPAZARI' 'GÄ°RESUN MERKEZ' 'Bursa.NÄ°LÃœFER'\n",
            " 'TekirdaÄŸ\\\\ Ã‡orlu' 'MERKEZ / ÅžÄ±rnak' 'Ä°zmir/ buca' 'BOLU'\n",
            " 'Ä°Ã§ kapÄ± no 7 sancaktepe/Ä°stanbul' 'DÄ°YARBAKIR' 'hakkari'\n",
            " 'Batman Merkez']\n",
            "['Turkey']\n",
            "[1.000000e+02 4.000000e+02 2.000000e+02 8.800000e+02 5.000000e+01\n",
            " 5.900000e+01 1.500000e+03 2.500000e+02 7.000000e+01 5.000000e+02\n",
            " 3.000000e+02 2.446800e+02 1.000000e+03 6.500000e+02 1.500000e+02\n",
            " 6.770000e+02 4.990000e+02 3.908800e+02 1.900000e+02 1.010000e+02\n",
            " 4.500000e+02 9.400000e+01 5.500000e+01 1.400000e+02 8.000000e+01\n",
            " 8.000000e+02 7.000000e+02 1.390000e+02 2.050000e+03 5.800000e+01\n",
            " 7.500000e+02 2.000000e+03 4.300000e+01 2.700000e+01 1.100000e+03\n",
            " 4.785400e+02 3.000000e+03 2.700000e+02 2.500000e+03 1.300000e+02\n",
            " 1.100000e+02 2.500000e+01 3.100000e+02 1.200000e+02 4.900000e+02\n",
            " 6.500000e+01 9.300000e+01 2.000000e+01 1.800000e+02 8.500000e+01\n",
            " 6.900000e+01 9.900000e+02 4.900000e+01 6.000000e+01 1.449930e+03\n",
            " 1.000000e+04 9.000000e+01 3.000000e+01 1.250000e+03 1.700000e+02\n",
            " 4.300000e+02 1.750000e+02 3.450000e+02 6.300000e+01 1.470000e+02\n",
            " 3.020000e+02 2.800000e+01 7.500000e+01 9.950000e+03 6.000000e+02\n",
            " 1.410000e+03 1.300000e+03 5.000000e+00 2.550000e+02 7.300000e+01\n",
            " 1.050000e+02 3.030000e+02 3.500000e+01 6.800000e+01 1.174200e+02\n",
            " 1.990000e+02 1.000000e+01 1.450000e+02 2.900000e+01 1.270000e+03\n",
            " 3.500000e+02 7.800000e+01 9.900000e+01 2.600000e+02 6.200000e+01\n",
            " 4.400000e+01 9.000000e+02 9.500000e+01 5.010000e+02 8.000000e+00\n",
            " 2.280000e+02 7.500000e+03 6.600000e+01 1.490000e+02 3.900000e+02\n",
            " 4.000000e+01 4.800000e+01 1.750000e+03 3.300000e+02 3.500000e+03\n",
            " 1.950000e+02 7.100000e+01 4.200000e+02 2.530000e+02 1.350000e+02\n",
            " 8.700000e+01 4.520000e+02 7.900000e+01 2.950000e+02 5.500000e+02\n",
            " 1.650000e+03 2.800000e+02 9.800000e+01 5.400000e+01 3.400000e+01\n",
            " 1.532100e+02 1.550000e+03 1.040000e+02 5.100000e+01 1.050000e+03\n",
            " 1.340000e+02 5.200000e+01 3.250000e+03 2.150000e+03 9.700000e+01\n",
            " 4.021800e+02 5.000000e+03 1.090000e+03 5.990000e+02 1.030000e+02\n",
            " 4.000000e+03 8.150000e+02 3.306600e+02 3.900000e+01 7.600000e+02\n",
            " 2.350000e+02 9.600000e+01 1.500000e+01 1.850000e+02 1.600000e+01\n",
            " 1.975000e+01 1.250000e+02 2.250000e+02 9.010000e+02 3.958000e+01\n",
            " 5.080000e+02 4.400000e+02 3.300000e+01 9.337100e+02 3.540000e+02\n",
            " 1.600000e+02 1.880000e+02 2.940000e+02 3.950000e+02 3.150000e+02\n",
            " 1.549500e+02 1.510000e+02 2.210000e+02 3.600000e+01 2.582000e+01\n",
            " 2.300000e+02 7.669300e+02 1.190000e+02 4.200000e+01 2.980000e+02\n",
            " 2.819500e+02 2.400000e+02 2.380000e+02 2.600000e+01 2.900000e+02\n",
            " 4.500000e+01 3.700000e+01 9.400000e+02 1.500700e+02 1.120000e+03\n",
            " 8.400000e+02 1.100000e+01 5.320500e+02 1.457249e+04 4.875000e+03\n",
            " 4.600000e+01 9.747000e+01 5.374500e+02 3.740000e+02 4.867800e+02\n",
            " 1.010000e+03 9.779800e+02 1.480000e+02 1.150000e+02 1.260000e+02\n",
            " 8.500000e+02 1.575700e+02 1.070000e+02 2.100000e+02 6.680000e+02\n",
            " 1.380000e+02 1.510000e+03 4.608800e+02 1.570400e+02 8.200000e+02\n",
            " 2.000000e+04 5.540000e+02 1.370000e+02 3.100000e+01 1.110000e+02\n",
            " 1.670000e+02 6.700000e+01 5.093900e+02 9.500000e+02 7.570000e+02\n",
            " 6.490000e+00 2.310000e+02 2.267400e+02 5.900000e+02 4.570000e+02\n",
            " 8.200000e+01 1.535500e+02 6.300000e+02 1.013400e+03 1.003430e+03\n",
            " 1.600000e+03 6.450000e+02 4.100000e+01 1.420000e+02 3.800000e+01\n",
            " 4.700000e+01 1.518000e+03 1.511400e+02 4.862300e+02 5.036300e+02\n",
            " 1.200000e+03 1.570000e+02 2.650000e+02 5.115100e+02 2.750000e+03\n",
            " 1.950000e+03 5.525000e+01 2.810000e+02 4.370000e+02 3.175900e+02\n",
            " 5.369400e+02 9.910200e+02 4.500000e+03 1.220000e+02 5.347900e+02\n",
            " 3.060000e+02 9.931900e+02 1.460000e+02 6.439000e+01 5.680000e+02\n",
            " 6.100000e+01 1.515820e+03 2.580000e+02 5.294000e+01 4.510000e+02\n",
            " 6.000000e+00 7.765800e+02 2.100000e+01 2.073000e+02 2.160000e+02\n",
            " 7.400000e+01 2.090000e+02 3.995000e+03 2.193130e+03 4.360000e+02\n",
            " 9.450000e+02 2.341200e+02 9.742200e+02 1.534100e+02 5.300000e+01\n",
            " 1.400000e+03 1.007000e+03 1.553300e+02 5.150000e+02 7.200000e+01\n",
            " 3.200000e+03 7.766400e+02 1.440000e+02 6.200000e+02 3.099600e+02\n",
            " 1.001000e+03 1.557200e+02 1.900000e+03 7.020000e+02 7.000000e+00\n",
            " 9.000000e+00 6.800000e+02 1.200000e+01 1.900000e+01 3.990000e+02\n",
            " 1.800000e+03 9.000000e+03 2.315800e+02 1.543900e+02 5.057900e+02\n",
            " 2.928500e+02 6.400000e+01 1.980000e+02 5.400000e+02 5.700000e+01\n",
            " 2.060000e+02 2.447100e+02 2.510000e+02 1.120000e+02 1.199000e+04\n",
            " 5.570000e+02 1.011570e+03 6.300000e+03 5.050000e+02 1.012780e+03\n",
            " 5.063900e+02 5.062000e+02 6.279700e+02 7.400000e+02 2.150000e+02\n",
            " 5.130000e+01 1.006350e+03 9.990000e+02 1.545500e+02 4.953700e+02\n",
            " 5.108500e+02 1.006220e+03 2.009100e+02 5.085800e+02 1.240000e+02\n",
            " 1.080000e+02 1.586500e+02 2.400000e+01 4.770500e+02 1.520000e+02\n",
            " 2.200000e+01 2.050000e+02 2.145000e+02 2.196300e+02 3.700000e+02\n",
            " 1.620000e+02 1.020000e+03 1.544600e+02 4.800000e+02 3.790000e+02\n",
            " 1.060000e+02 2.001000e+03 5.256100e+02 1.090000e+02 1.500000e+04\n",
            " 1.450000e+03 1.007680e+03 9.750000e+02 4.140000e+02 7.792770e+03\n",
            " 1.566800e+02 2.030000e+02 4.860700e+02 1.350000e+03 5.026600e+02\n",
            " 4.010000e+02 1.563100e+02 1.315000e+03 1.410000e+02 2.016600e+02\n",
            " 4.750000e+02 1.557700e+02 1.800000e+01 1.540000e+02 1.100000e+04\n",
            " 1.248000e+03 7.756300e+02 6.370000e+02 7.803000e+02 2.440000e+02\n",
            " 2.039400e+02 1.612000e+02 7.700000e+01 3.101500e+02 9.726700e+02\n",
            " 4.968900e+02 4.905400e+02 2.000000e+00 1.595000e+01 7.990000e+02\n",
            " 3.881590e+03 4.658300e+02 1.555600e+02 7.033000e+02 2.730000e+02\n",
            " 8.800000e+01 1.870000e+02 1.970000e+03 2.990000e+02 8.390000e+00\n",
            " 1.230000e+02 1.890000e+02 2.200000e+02 3.750000e+02 6.000000e+03\n",
            " 3.800000e-01 2.190000e+02 1.071520e+03 9.876000e+01 1.280000e+02\n",
            " 6.175000e+01 2.540000e+02 1.626300e+02 1.503900e+02 1.210000e+02\n",
            " 4.480000e+02 1.610000e+02 8.178000e+03 4.080000e+02 3.274300e+02\n",
            " 1.480000e+03 2.260000e+02 7.380000e+02 3.300000e+03 4.950000e+03\n",
            " 3.400000e+02 9.030000e+02 1.560000e+02 1.160000e+02 1.038605e+04\n",
            " 5.100000e+02 6.130000e+00 3.200000e+01 2.596000e+01 2.020000e+02\n",
            " 3.254400e+02 3.600000e+03 7.320000e+02 5.600000e+01 8.900000e+01\n",
            " 1.300000e+01 1.920000e+02 7.850000e+02 1.299968e+04 6.180000e+00\n",
            " 4.850000e+02 7.314000e+03 8.000000e+03 8.100000e+01 1.360000e+02\n",
            " 1.700000e+01 8.910000e+02 3.200000e+02 7.340000e+02 1.647000e+03\n",
            " 5.299000e+01 6.780000e+00 6.010000e+02 9.800000e+02 5.202000e+01\n",
            " 8.100000e+02 2.250000e+03 8.300000e+01 6.900000e+03 4.160000e+02\n",
            " 2.800000e+03 4.066700e+02 1.400000e+01 3.165200e+02 8.450000e+02\n",
            " 6.320000e+00 9.460000e+02 8.400000e+01 9.917200e+02 1.930000e+02\n",
            " 3.910000e+02 7.330000e+02 3.163200e+02 3.050000e+02 1.320000e+02\n",
            " 2.490000e+02 4.190000e+02 4.110000e+02 1.303000e+03 6.700000e+02\n",
            " 2.560000e+02 1.080000e+03 1.218000e+03 3.400000e+03 1.245000e+03\n",
            " 1.690000e+02 6.850000e+02 5.300000e+02 1.700000e+03 7.900000e+02\n",
            " 3.850000e+02 4.381470e+03 9.100000e+02 9.960000e+02 3.131600e+02\n",
            " 3.010000e+02 3.110000e+02 3.310000e+02 3.111000e+01 5.043900e+02\n",
            " 1.310000e+03 3.850000e+03 4.870000e+02 4.970000e+02 1.100100e+04\n",
            " 4.350000e+02 9.730000e+02 1.073000e+03 3.530000e+02 3.800000e+02\n",
            " 9.677000e+01 1.830000e+02 3.600000e+02 1.740000e+02 5.701000e+03\n",
            " 4.450000e+02 1.650000e+02 1.530000e+02 1.236000e+03 2.844000e+01\n",
            " 9.100000e+01 1.998000e+03 4.700000e+02 2.434200e+02 1.017000e+03\n",
            " 5.171200e+02 1.150000e+03 2.290000e+02 1.140000e+02 1.730000e+02\n",
            " 8.890000e+02 1.070000e+03 2.070000e+02 5.001000e+03 1.180000e+02\n",
            " 1.010660e+03 5.155000e+02 9.766000e+01 4.920000e+02 4.950000e+02\n",
            " 1.180000e+03 2.270000e+02 1.248000e+01 6.100000e+02 9.600000e+02\n",
            " 5.580000e+03 2.850000e+02 4.600000e+02 1.000000e+05 1.710000e+02\n",
            " 3.440000e+02 7.213450e+03 2.550000e+03 9.150000e+02 1.040000e+03\n",
            " 1.032000e+03 1.330000e+02 4.980000e+02 2.819000e+01 2.780000e+02\n",
            " 9.950000e+02 2.450000e+02 8.300000e+02 1.260000e+03 8.670000e+02\n",
            " 2.900000e+03 1.015950e+03 2.450000e+03 4.991100e+02 1.970000e+02\n",
            " 7.000000e+03 1.660000e+02 4.916000e+01 1.430000e+02 2.978000e+01\n",
            " 2.745000e+02 1.011000e+03 9.870000e+02 2.010000e+02 9.200000e+01\n",
            " 1.020000e+02 7.400000e+03 3.866000e+01 1.770000e+02 3.480000e+02\n",
            " 2.400000e+03 5.600000e+02 8.860000e+02 8.770000e+02 2.820000e+01\n",
            " 4.100000e+02 1.780000e+02 2.110000e+02 3.114600e+02 5.294200e+02\n",
            " 6.400000e+02 2.870000e+02 5.501000e+01 9.680000e+02 1.170000e+02\n",
            " 3.580000e+02 5.390000e+02 3.080000e+02 1.790000e+02 1.091700e+02\n",
            " 4.910000e+02 7.100000e+02 2.724000e+02 3.720000e+02 3.590000e+02\n",
            " 2.200000e+03 4.986000e+01 2.741000e+01 1.550000e+02 8.990000e+02\n",
            " 1.005000e+03 7.200000e+02 9.750800e+02 8.750000e+02 2.960000e+02\n",
            " 1.590000e+02 5.550000e+02 4.890000e+02 9.380000e+00 3.120000e+02\n",
            " 2.770000e+01 1.810000e+02 2.440400e+02 2.437000e+02 7.306000e+01\n",
            " 5.450000e+02 2.720000e+03 3.610000e+02 8.600000e+01]\n",
            "['2009-01-10T00:00:00.000000000' '2009-03-01T00:00:00.000000000'\n",
            " '2009-04-06T00:00:00.000000000' ... '2022-08-29T00:00:00.000000000'\n",
            " '2022-08-30T00:00:00.000000000' '2022-08-31T00:00:00.000000000']\n",
            "['2022-06-05T00:00:00.000000000' '2022-02-11T00:00:00.000000000'\n",
            " '2022-05-02T00:00:00.000000000' '2022-05-29T00:00:00.000000000'\n",
            " '2022-03-15T00:00:00.000000000' '2022-03-16T00:00:00.000000000'\n",
            " '2022-03-08T00:00:00.000000000' '2022-07-07T00:00:00.000000000'\n",
            " '2022-07-06T00:00:00.000000000' '2022-03-18T00:00:00.000000000'\n",
            " '2022-02-13T00:00:00.000000000' '2022-02-17T00:00:00.000000000'\n",
            " '2022-04-10T00:00:00.000000000' '2022-02-01T00:00:00.000000000'\n",
            " '2022-03-17T00:00:00.000000000' '2022-06-11T00:00:00.000000000'\n",
            " '2022-04-09T00:00:00.000000000' '2022-04-24T00:00:00.000000000'\n",
            " '2022-03-09T00:00:00.000000000' '2022-04-15T00:00:00.000000000'\n",
            " '2022-07-10T00:00:00.000000000' '2022-04-04T00:00:00.000000000'\n",
            " '2022-03-01T00:00:00.000000000' '2022-08-07T00:00:00.000000000'\n",
            " '2022-06-26T00:00:00.000000000' '2022-05-17T00:00:00.000000000'\n",
            " '2022-03-31T00:00:00.000000000' '2022-03-03T00:00:00.000000000'\n",
            " '2022-05-14T00:00:00.000000000' '2022-06-03T00:00:00.000000000'\n",
            " '2022-07-29T00:00:00.000000000' '2022-04-30T00:00:00.000000000'\n",
            " '2022-02-24T00:00:00.000000000' '2022-04-02T00:00:00.000000000'\n",
            " '2022-03-06T00:00:00.000000000' '2022-02-08T00:00:00.000000000'\n",
            " '2022-04-06T00:00:00.000000000' '2022-04-13T00:00:00.000000000'\n",
            " '2022-02-12T00:00:00.000000000' '2022-06-12T00:00:00.000000000'\n",
            " '2022-03-13T00:00:00.000000000' '2022-03-02T00:00:00.000000000'\n",
            " '2022-04-03T00:00:00.000000000' '2022-02-21T00:00:00.000000000'\n",
            " '2022-04-11T00:00:00.000000000' '2022-04-01T00:00:00.000000000'\n",
            " '2022-08-02T00:00:00.000000000' '2022-05-28T00:00:00.000000000'\n",
            " '2022-07-13T00:00:00.000000000' '2022-01-30T00:00:00.000000000'\n",
            " '2022-01-16T00:00:00.000000000' '2022-05-01T00:00:00.000000000'\n",
            " '2022-02-10T00:00:00.000000000' '2022-02-23T00:00:00.000000000'\n",
            " '2022-03-30T00:00:00.000000000' '2022-05-22T00:00:00.000000000'\n",
            " '2022-02-15T00:00:00.000000000' '2022-02-19T00:00:00.000000000'\n",
            " '2022-01-23T00:00:00.000000000' '2022-06-23T00:00:00.000000000'\n",
            " '2022-05-06T00:00:00.000000000' '2022-01-21T00:00:00.000000000'\n",
            " '2022-06-13T00:00:00.000000000' '2022-03-22T00:00:00.000000000'\n",
            " '2022-03-28T00:00:00.000000000' '2022-02-27T00:00:00.000000000'\n",
            " '2022-04-29T00:00:00.000000000' '2022-06-20T00:00:00.000000000'\n",
            " '2022-01-12T00:00:00.000000000' '2022-03-19T00:00:00.000000000'\n",
            " '2022-04-22T00:00:00.000000000' '2022-06-07T00:00:00.000000000'\n",
            " '2022-01-05T00:00:00.000000000' '2022-03-23T00:00:00.000000000'\n",
            " '2022-04-25T00:00:00.000000000' '2022-04-17T00:00:00.000000000'\n",
            " '2022-04-26T00:00:00.000000000' '2022-04-28T00:00:00.000000000'\n",
            " '2022-01-14T00:00:00.000000000' '2022-03-25T00:00:00.000000000'\n",
            " '2022-06-01T00:00:00.000000000' '2022-04-08T00:00:00.000000000'\n",
            " '2022-03-29T00:00:00.000000000' '2022-02-03T00:00:00.000000000'\n",
            " '2022-03-20T00:00:00.000000000' '2022-05-03T00:00:00.000000000'\n",
            " '2022-01-22T00:00:00.000000000' '2022-01-01T00:00:00.000000000'\n",
            " '2022-03-21T00:00:00.000000000' '2022-01-15T00:00:00.000000000'\n",
            " '2022-05-21T00:00:00.000000000' '2022-03-14T00:00:00.000000000'\n",
            " '2022-01-19T00:00:00.000000000' '2022-05-20T00:00:00.000000000'\n",
            " '2022-01-04T00:00:00.000000000' '2022-06-08T00:00:00.000000000'\n",
            " '2022-04-19T00:00:00.000000000' '2022-01-09T00:00:00.000000000'\n",
            " '2022-01-11T00:00:00.000000000' '2022-02-28T00:00:00.000000000'\n",
            " '2022-04-18T00:00:00.000000000' '2022-01-27T00:00:00.000000000'\n",
            " '2022-05-25T00:00:00.000000000' '2022-05-26T00:00:00.000000000'\n",
            " '2022-03-27T00:00:00.000000000' '2022-02-14T00:00:00.000000000'\n",
            " '2022-03-07T00:00:00.000000000' '2022-02-02T00:00:00.000000000'\n",
            " '2022-05-16T00:00:00.000000000' '2022-05-19T00:00:00.000000000'\n",
            " '2022-02-09T00:00:00.000000000' '2022-05-04T00:00:00.000000000'\n",
            " '2022-01-08T00:00:00.000000000' '2022-04-21T00:00:00.000000000'\n",
            " '2022-01-10T00:00:00.000000000' '2022-03-11T00:00:00.000000000'\n",
            " '2022-05-15T00:00:00.000000000' '2022-06-04T00:00:00.000000000'\n",
            " '2022-01-20T00:00:00.000000000' '2022-04-16T00:00:00.000000000'\n",
            " '2022-04-05T00:00:00.000000000' '2022-01-17T00:00:00.000000000'\n",
            " '2022-01-25T00:00:00.000000000' '2022-02-18T00:00:00.000000000'\n",
            " '2022-01-28T00:00:00.000000000' '2022-03-26T00:00:00.000000000'\n",
            " '2022-06-14T00:00:00.000000000' '2022-05-11T00:00:00.000000000'\n",
            " '2022-06-15T00:00:00.000000000' '2022-02-07T00:00:00.000000000'\n",
            " '2022-02-04T00:00:00.000000000' '2022-01-03T00:00:00.000000000'\n",
            " '2022-06-10T00:00:00.000000000' '2022-04-07T00:00:00.000000000'\n",
            " '2022-02-05T00:00:00.000000000' '2022-02-06T00:00:00.000000000'\n",
            " '2022-05-18T00:00:00.000000000' '2022-05-05T00:00:00.000000000'\n",
            " '2022-04-23T00:00:00.000000000' '2022-02-16T00:00:00.000000000'\n",
            " '2022-05-07T00:00:00.000000000' '2022-03-10T00:00:00.000000000'\n",
            " '2022-01-29T00:00:00.000000000' '2022-01-02T00:00:00.000000000'\n",
            " '2022-02-22T00:00:00.000000000' '2022-04-27T00:00:00.000000000'\n",
            " '2022-04-20T00:00:00.000000000' '2022-03-05T00:00:00.000000000'\n",
            " '2022-01-13T00:00:00.000000000' '2022-05-09T00:00:00.000000000'\n",
            " '2022-03-12T00:00:00.000000000' '2022-04-12T00:00:00.000000000'\n",
            " '2022-06-16T00:00:00.000000000' '2022-01-07T00:00:00.000000000'\n",
            " '2022-06-06T00:00:00.000000000' '2022-05-31T00:00:00.000000000'\n",
            " '2022-05-23T00:00:00.000000000' '2022-01-06T00:00:00.000000000'\n",
            " '2022-05-12T00:00:00.000000000' '2022-05-30T00:00:00.000000000'\n",
            " '2022-03-24T00:00:00.000000000' '2022-03-04T00:00:00.000000000'\n",
            " '2022-02-25T00:00:00.000000000' '2022-01-31T00:00:00.000000000'\n",
            " '2022-06-09T00:00:00.000000000' '2022-02-20T00:00:00.000000000'\n",
            " '2022-05-08T00:00:00.000000000' '2022-02-26T00:00:00.000000000'\n",
            " '2022-05-10T00:00:00.000000000' '2022-05-24T00:00:00.000000000'\n",
            " '2022-01-24T00:00:00.000000000' '2022-01-18T00:00:00.000000000'\n",
            " '2022-05-13T00:00:00.000000000' '2022-01-26T00:00:00.000000000'\n",
            " '2022-07-16T00:00:00.000000000' '2022-06-25T00:00:00.000000000'\n",
            " '2022-07-11T00:00:00.000000000' '2022-07-26T00:00:00.000000000'\n",
            " '2022-07-20T00:00:00.000000000' '2022-06-22T00:00:00.000000000'\n",
            " '2022-08-01T00:00:00.000000000' '2022-07-02T00:00:00.000000000'\n",
            " '2022-08-08T00:00:00.000000000' '2022-07-03T00:00:00.000000000'\n",
            " '2022-07-04T00:00:00.000000000' '2022-08-06T00:00:00.000000000'\n",
            " '2022-08-03T00:00:00.000000000' '2022-06-24T00:00:00.000000000'\n",
            " '2022-07-22T00:00:00.000000000' '2022-05-27T00:00:00.000000000'\n",
            " '2022-07-21T00:00:00.000000000' '2022-07-14T00:00:00.000000000'\n",
            " '2022-08-05T00:00:00.000000000' '2022-06-18T00:00:00.000000000'\n",
            " '2022-04-14T00:00:00.000000000' '2022-06-02T00:00:00.000000000'\n",
            " '2022-06-17T00:00:00.000000000' '2022-06-21T00:00:00.000000000'\n",
            " '2022-06-19T00:00:00.000000000' '2022-06-29T00:00:00.000000000'\n",
            " '2022-06-30T00:00:00.000000000' '2022-07-01T00:00:00.000000000'\n",
            " '2022-06-28T00:00:00.000000000' '2022-07-08T00:00:00.000000000'\n",
            " '2022-06-27T00:00:00.000000000' '2022-07-09T00:00:00.000000000'\n",
            " '2022-07-28T00:00:00.000000000' '2022-07-23T00:00:00.000000000'\n",
            " '2022-07-25T00:00:00.000000000' '2022-07-24T00:00:00.000000000'\n",
            " '2022-08-04T00:00:00.000000000' '2022-07-12T00:00:00.000000000'\n",
            " '2022-07-05T00:00:00.000000000' '2022-07-19T00:00:00.000000000'\n",
            " '2022-07-15T00:00:00.000000000' '2022-07-17T00:00:00.000000000'\n",
            " '2022-07-18T00:00:00.000000000' '2022-08-12T00:00:00.000000000'\n",
            " '2022-08-13T00:00:00.000000000' '2022-07-31T00:00:00.000000000'\n",
            " '2022-08-17T00:00:00.000000000' '2022-07-30T00:00:00.000000000'\n",
            " '2022-08-11T00:00:00.000000000' '2022-07-27T00:00:00.000000000'\n",
            " '2022-08-20T00:00:00.000000000' '2022-08-18T00:00:00.000000000'\n",
            " '2022-08-23T00:00:00.000000000' '2022-08-15T00:00:00.000000000'\n",
            " '2022-08-09T00:00:00.000000000' '2022-08-16T00:00:00.000000000'\n",
            " '2022-08-28T00:00:00.000000000' '2022-08-14T00:00:00.000000000'\n",
            " '2022-08-31T00:00:00.000000000' '2022-08-10T00:00:00.000000000'\n",
            " '2022-08-27T00:00:00.000000000' '2022-08-24T00:00:00.000000000'\n",
            " '2022-08-21T00:00:00.000000000' '2022-08-19T00:00:00.000000000'\n",
            " '2022-08-22T00:00:00.000000000' '2022-08-25T00:00:00.000000000'\n",
            " '2022-08-29T00:00:00.000000000' '2022-08-30T00:00:00.000000000'\n",
            " '2022-08-26T00:00:00.000000000']\n"
          ]
        }
      ]
    },
    {
      "cell_type": "code",
      "source": [
        "for i in range(data.shape[1]):\n",
        "    print(data.iloc[:,i].value_counts())"
      ],
      "metadata": {
        "colab": {
          "base_uri": "https://localhost:8080/"
        },
        "id": "jz_RiNXX1kJp",
        "outputId": "4761f0d5-4866-4b14-8e2d-d0ba06c2e79d"
      },
      "execution_count": 237,
      "outputs": [
        {
          "output_type": "stream",
          "name": "stdout",
          "text": [
            "5075649      1\n",
            "146921051    1\n",
            "146922891    1\n",
            "146916741    1\n",
            "146920071    1\n",
            "            ..\n",
            "146117831    1\n",
            "146116641    1\n",
            "146119551    1\n",
            "146112851    1\n",
            "147844971    1\n",
            "Name: IDCUSTOMER, Length: 22065, dtype: int64\n",
            "M      21985\n",
            "F         79\n",
            "M          1\n",
            "Name: GENDER, dtype: int64\n",
            "Ä°stanbul            4770\n",
            "Bursa                1652\n",
            "DiyarbakÄ±r          1307\n",
            "Ankara               1182\n",
            "Ä°zmir               1151\n",
            "                     ... \n",
            "Ã§orlu tekirdaÄŸ        1\n",
            "istanbul/sarÄ±yer       1\n",
            "ksk                     1\n",
            "edirne keÅŸan           1\n",
            "Batman Merkez           1\n",
            "Name: CITY, Length: 331, dtype: int64\n",
            "Turkey    22065\n",
            "Name: COUNTRY, dtype: int64\n",
            "100.00     6498\n",
            "50.00      3693\n",
            "500.00     1488\n",
            "200.00     1353\n",
            "1000.00    1092\n",
            "           ... \n",
            "219.63        1\n",
            "214.50        1\n",
            "477.05        1\n",
            "158.65        1\n",
            "86.00         1\n",
            "Name: FIRST_DEPOSIT_AMOUNT, Length: 634, dtype: int64\n",
            "2022-03-22    148\n",
            "2022-03-03    145\n",
            "2022-03-18    144\n",
            "2022-03-15    144\n",
            "2022-02-13    142\n",
            "             ... \n",
            "2018-04-21      1\n",
            "2018-04-18      1\n",
            "2018-04-16      1\n",
            "2018-04-15      1\n",
            "2020-04-05      1\n",
            "Name: REGISTRATION_DATE, Length: 1417, dtype: int64\n",
            "2022-04-26    169\n",
            "2022-03-18    166\n",
            "2022-02-13    165\n",
            "2022-03-03    158\n",
            "2022-03-22    157\n",
            "             ... \n",
            "2022-07-03     45\n",
            "2022-06-21     45\n",
            "2022-06-24     43\n",
            "2022-06-17     42\n",
            "2022-06-29     40\n",
            "Name: DEPOSIT_DATE, Length: 243, dtype: int64\n"
          ]
        }
      ]
    },
    {
      "cell_type": "code",
      "source": [
        "print(data.dtypes)"
      ],
      "metadata": {
        "colab": {
          "base_uri": "https://localhost:8080/"
        },
        "id": "QspizX7S1jtc",
        "outputId": "27d57c3e-635f-4cd0-91e4-9d9bd3b9962f"
      },
      "execution_count": 238,
      "outputs": [
        {
          "output_type": "stream",
          "name": "stdout",
          "text": [
            "IDCUSTOMER                       int64\n",
            "GENDER                          object\n",
            "CITY                            object\n",
            "COUNTRY                         object\n",
            "FIRST_DEPOSIT_AMOUNT           float64\n",
            "REGISTRATION_DATE       datetime64[ns]\n",
            "DEPOSIT_DATE            datetime64[ns]\n",
            "dtype: object\n"
          ]
        }
      ]
    },
    {
      "cell_type": "code",
      "source": [
        "from datetime import datetime"
      ],
      "metadata": {
        "id": "ib8X_a051kHQ"
      },
      "execution_count": 239,
      "outputs": []
    },
    {
      "cell_type": "markdown",
      "source": [
        "TIME PERIOD"
      ],
      "metadata": {
        "id": "kyOmejUGA0Qd"
      }
    },
    {
      "cell_type": "code",
      "source": [
        "def calculate_active_period(REGISTRATION_DATE,DEPOSIT_DATE):\n",
        "    active_period = (DEPOSIT_DATE-REGISTRATION_DATE).days\n",
        "    return active_period"
      ],
      "metadata": {
        "id": "gXHRqIJ91kEr"
      },
      "execution_count": 240,
      "outputs": []
    },
    {
      "cell_type": "code",
      "source": [
        "REGISTRATION_DATE = datetime(2009, 6, 7)  # customer ID - 5371454\n",
        "DEPOSIT_DATE = datetime(2022, 5, 29)\n",
        "days_active = calculate_active_period(REGISTRATION_DATE,DEPOSIT_DATE)\n",
        "print(\"The customer has been active for\", days_active, \"days.\")"
      ],
      "metadata": {
        "colab": {
          "base_uri": "https://localhost:8080/"
        },
        "id": "2xeKj_-j1kBy",
        "outputId": "a946c8b0-0f8f-478e-f473-4ad3cc2e7098"
      },
      "execution_count": 140,
      "outputs": [
        {
          "output_type": "stream",
          "name": "stdout",
          "text": [
            "The customer has been active for 4739 days.\n"
          ]
        }
      ]
    },
    {
      "cell_type": "code",
      "source": [
        "def calculate_active_period(REGISTRATION_DATE, DEPOSIT_DATE ):\n",
        "    REGISTRATION_DATE = datetime.strptime(REGISTRATION_DATE, \"%Y-%m-%d\").date()\n",
        "    DEPOSIT_DATE = datetime.strptime(DEPOSIT_DATE, \"%Y-%m-%d\").date()"
      ],
      "metadata": {
        "id": "J_-U0P0O1j_Q"
      },
      "execution_count": 141,
      "outputs": []
    },
    {
      "cell_type": "code",
      "source": [
        "active_period = (DEPOSIT_DATE- REGISTRATION_DATE).days\n",
        "print (active_period)"
      ],
      "metadata": {
        "colab": {
          "base_uri": "https://localhost:8080/"
        },
        "id": "VKSurrXS1j8x",
        "outputId": "ad119e6b-d101-4e63-d274-acfbf4dc644e"
      },
      "execution_count": 158,
      "outputs": [
        {
          "output_type": "stream",
          "name": "stdout",
          "text": [
            "4739\n"
          ]
        }
      ]
    },
    {
      "cell_type": "code",
      "source": [
        "active_period = (DEPOSIT_DATE - REGISTRATION_DATE).days\n",
        "print('active_period')"
      ],
      "metadata": {
        "colab": {
          "base_uri": "https://localhost:8080/"
        },
        "id": "mKRO1s85FmQ4",
        "outputId": "0428d018-9dfc-4596-ad81-67f16472c925"
      },
      "execution_count": 159,
      "outputs": [
        {
          "output_type": "stream",
          "name": "stdout",
          "text": [
            "active_period\n"
          ]
        }
      ]
    },
    {
      "cell_type": "code",
      "source": [
        "filtered_data=data[['COUNTRY','IDCUSTOMER']].drop_duplicates()\n"
      ],
      "metadata": {
        "id": "3OplHs911jrp"
      },
      "execution_count": 160,
      "outputs": []
    },
    {
      "cell_type": "code",
      "source": [
        "\n",
        "filtered_data.COUNTRY.value_counts()[:1].plot(kind='bar')\n"
      ],
      "metadata": {
        "colab": {
          "base_uri": "https://localhost:8080/",
          "height": 478
        },
        "id": "Er79J7eJ1jj8",
        "outputId": "f708bae2-6390-4559-c314-002c881e73c2"
      },
      "execution_count": 161,
      "outputs": [
        {
          "output_type": "execute_result",
          "data": {
            "text/plain": [
              "<Axes: >"
            ]
          },
          "metadata": {},
          "execution_count": 161
        },
        {
          "output_type": "display_data",
          "data": {
            "text/plain": [
              "<Figure size 640x480 with 1 Axes>"
            ],
            "image/png": "[encoded data removed]"
          },
          "metadata": {}
        }
      ]
    },
    {
      "cell_type": "code",
      "source": [
        "Turkey_data=data[data.COUNTRY=='Turkey']\n",
        "Turkey_data.info()\n"
      ],
      "metadata": {
        "colab": {
          "base_uri": "https://localhost:8080/"
        },
        "id": "woQXee0i1jhu",
        "outputId": "8b30e6ae-7533-453a-df95-5dd20e2443a8"
      },
      "execution_count": 162,
      "outputs": [
        {
          "output_type": "stream",
          "name": "stdout",
          "text": [
            "<class 'pandas.core.frame.DataFrame'>\n",
            "Int64Index: 22065 entries, 0 to 22064\n",
            "Data columns (total 7 columns):\n",
            " #   Column                Non-Null Count  Dtype         \n",
            "---  ------                --------------  -----         \n",
            " 0   IDCUSTOMER            22065 non-null  int64         \n",
            " 1   GENDER                22065 non-null  object        \n",
            " 2   CITY                  22065 non-null  object        \n",
            " 3   COUNTRY               22065 non-null  object        \n",
            " 4   FIRST_DEPOSIT_AMOUNT  22065 non-null  float64       \n",
            " 5   REGISTRATION_DATE     22065 non-null  datetime64[ns]\n",
            " 6   DEPOSIT_DATE          22065 non-null  datetime64[ns]\n",
            "dtypes: datetime64[ns](2), float64(1), int64(1), object(3)\n",
            "memory usage: 1.3+ MB\n"
          ]
        }
      ]
    },
    {
      "cell_type": "code",
      "source": [
        "Turkey_data.describe()\n"
      ],
      "metadata": {
        "colab": {
          "base_uri": "https://localhost:8080/",
          "height": 300
        },
        "id": "6aDTQ09g1jfc",
        "outputId": "089d59e5-5f9d-4e6f-f9dd-2dd45151f093"
      },
      "execution_count": 163,
      "outputs": [
        {
          "output_type": "execute_result",
          "data": {
            "text/plain": [
              "         IDCUSTOMER  FIRST_DEPOSIT_AMOUNT\n",
              "count  2.206500e+04          22065.000000\n",
              "mean   1.380593e+08            284.806530\n",
              "std    3.272693e+07            943.993064\n",
              "min    5.075649e+06              0.380000\n",
              "25%    1.459097e+08             70.000000\n",
              "50%    1.465139e+08            100.000000\n",
              "75%    1.471483e+08            250.000000\n",
              "max    1.478480e+08         100000.000000"
            ],
            "text/html": [
              "\n",
              "\n",
              "  <div id=\"df-03cd7328-3316-4887-a6df-b41fc6af3908\">\n",
              "    <div class=\"colab-df-container\">\n",
              "      <div>\n",
              "<style scoped>\n",
              "    .dataframe tbody tr th:only-of-type {\n",
              "        vertical-align: middle;\n",
              "    }\n",
              "\n",
              "    .dataframe tbody tr th {\n",
              "        vertical-align: top;\n",
              "    }\n",
              "\n",
              "    .dataframe thead th {\n",
              "        text-align: right;\n",
              "    }\n",
              "</style>\n",
              "<table border=\"1\" class=\"dataframe\">\n",
              "  <thead>\n",
              "    <tr style=\"text-align: right;\">\n",
              "      <th></th>\n",
              "      <th>IDCUSTOMER</th>\n",
              "      <th>FIRST_DEPOSIT_AMOUNT</th>\n",
              "    </tr>\n",
              "  </thead>\n",
              "  <tbody>\n",
              "    <tr>\n",
              "      <th>count</th>\n",
              "      <td>2.206500e+04</td>\n",
              "      <td>22065.000000</td>\n",
              "    </tr>\n",
              "    <tr>\n",
              "      <th>mean</th>\n",
              "      <td>1.380593e+08</td>\n",
              "      <td>284.806530</td>\n",
              "    </tr>\n",
              "    <tr>\n",
              "      <th>std</th>\n",
              "      <td>3.272693e+07</td>\n",
              "      <td>943.993064</td>\n",
              "    </tr>\n",
              "    <tr>\n",
              "      <th>min</th>\n",
              "      <td>5.075649e+06</td>\n",
              "      <td>0.380000</td>\n",
              "    </tr>\n",
              "    <tr>\n",
              "      <th>25%</th>\n",
              "      <td>1.459097e+08</td>\n",
              "      <td>70.000000</td>\n",
              "    </tr>\n",
              "    <tr>\n",
              "      <th>50%</th>\n",
              "      <td>1.465139e+08</td>\n",
              "      <td>100.000000</td>\n",
              "    </tr>\n",
              "    <tr>\n",
              "      <th>75%</th>\n",
              "      <td>1.471483e+08</td>\n",
              "      <td>250.000000</td>\n",
              "    </tr>\n",
              "    <tr>\n",
              "      <th>max</th>\n",
              "      <td>1.478480e+08</td>\n",
              "      <td>100000.000000</td>\n",
              "    </tr>\n",
              "  </tbody>\n",
              "</table>\n",
              "</div>\n",
              "      <button class=\"colab-df-convert\" onclick=\"convertToInteractive('df-03cd7328-3316-4887-a6df-b41fc6af3908')\"\n",
              "              title=\"Convert this dataframe to an interactive table.\"\n",
              "              style=\"display:none;\">\n",
              "\n",
              "  <svg xmlns=\"http://www.w3.org/2000/svg\" height=\"24px\"viewBox=\"0 0 24 24\"\n",
              "       width=\"24px\">\n",
              "    <path d=\"M0 0h24v24H0V0z\" fill=\"none\"/>\n",
              "    <path d=\"M18.56 5.44l.94 2.06.94-2.06 2.06-.94-2.06-.94-.94-2.06-.94 2.06-2.06.94zm-11 1L8.5 8.5l.94-2.06 2.06-.94-2.06-.94L8.5 2.5l-.94 2.06-2.06.94zm10 10l.94 2.06.94-2.06 2.06-.94-2.06-.94-.94-2.06-.94 2.06-2.06.94z\"/><path d=\"M17.41 7.96l-1.37-1.37c-.4-.4-.92-.59-1.43-.59-.52 0-1.04.2-1.43.59L10.3 9.45l-7.72 7.72c-.78.78-.78 2.05 0 2.83L4 21.41c.39.39.9.59 1.41.59.51 0 1.02-.2 1.41-.59l7.78-7.78 2.81-2.81c.8-.78.8-2.07 0-2.86zM5.41 20L4 18.59l7.72-7.72 1.47 1.35L5.41 20z\"/>\n",
              "  </svg>\n",
              "      </button>\n",
              "\n",
              "\n",
              "\n",
              "    <div id=\"df-d715087b-20b8-4080-b5bf-8eef2ee65e2d\">\n",
              "      <button class=\"colab-df-quickchart\" onclick=\"quickchart('df-d715087b-20b8-4080-b5bf-8eef2ee65e2d')\"\n",
              "              title=\"Suggest charts.\"\n",
              "              style=\"display:none;\">\n",
              "\n",
              "<svg xmlns=\"http://www.w3.org/2000/svg\" height=\"24px\"viewBox=\"0 0 24 24\"\n",
              "     width=\"24px\">\n",
              "    <g>\n",
              "        <path d=\"M19 3H5c-1.1 0-2 .9-2 2v14c0 1.1.9 2 2 2h14c1.1 0 2-.9 2-2V5c0-1.1-.9-2-2-2zM9 17H7v-7h2v7zm4 0h-2V7h2v10zm4 0h-2v-4h2v4z\"/>\n",
              "    </g>\n",
              "</svg>\n",
              "      </button>\n",
              "    </div>\n",
              "\n",
              "<style>\n",
              "  .colab-df-quickchart {\n",
              "    background-color: #E8F0FE;\n",
              "    border: none;\n",
              "    border-radius: 50%;\n",
              "    cursor: pointer;\n",
              "    display: none;\n",
              "    fill: #1967D2;\n",
              "    height: 32px;\n",
              "    padding: 0 0 0 0;\n",
              "    width: 32px;\n",
              "  }\n",
              "\n",
              "  .colab-df-quickchart:hover {\n",
              "    background-color: #E2EBFA;\n",
              "    box-shadow: 0px 1px 2px rgba(60, 64, 67, 0.3), 0px 1px 3px 1px rgba(60, 64, 67, 0.15);\n",
              "    fill: #174EA6;\n",
              "  }\n",
              "\n",
              "  [theme=dark] .colab-df-quickchart {\n",
              "    background-color: #3B4455;\n",
              "    fill: #D2E3FC;\n",
              "  }\n",
              "\n",
              "  [theme=dark] .colab-df-quickchart:hover {\n",
              "    background-color: #434B5C;\n",
              "    box-shadow: 0px 1px 3px 1px rgba(0, 0, 0, 0.15);\n",
              "    filter: drop-shadow(0px 1px 2px rgba(0, 0, 0, 0.3));\n",
              "    fill: #FFFFFF;\n",
              "  }\n",
              "</style>\n",
              "\n",
              "    <script>\n",
              "      async function quickchart(key) {\n",
              "        const containerElement = document.querySelector('#' + key);\n",
              "        const charts = await google.colab.kernel.invokeFunction(\n",
              "            'suggestCharts', [key], {});\n",
              "      }\n",
              "    </script>\n",
              "\n",
              "      <script>\n",
              "\n",
              "function displayQuickchartButton(domScope) {\n",
              "  let quickchartButtonEl =\n",
              "    domScope.querySelector('#df-d715087b-20b8-4080-b5bf-8eef2ee65e2d button.colab-df-quickchart');\n",
              "  quickchartButtonEl.style.display =\n",
              "    google.colab.kernel.accessAllowed ? 'block' : 'none';\n",
              "}\n",
              "\n",
              "        displayQuickchartButton(document);\n",
              "      </script>\n",
              "      <style>\n",
              "    .colab-df-container {\n",
              "      display:flex;\n",
              "      flex-wrap:wrap;\n",
              "      gap: 12px;\n",
              "    }\n",
              "\n",
              "    .colab-df-convert {\n",
              "      background-color: #E8F0FE;\n",
              "      border: none;\n",
              "      border-radius: 50%;\n",
              "      cursor: pointer;\n",
              "      display: none;\n",
              "      fill: #1967D2;\n",
              "      height: 32px;\n",
              "      padding: 0 0 0 0;\n",
              "      width: 32px;\n",
              "    }\n",
              "\n",
              "    .colab-df-convert:hover {\n",
              "      background-color: #E2EBFA;\n",
              "      box-shadow: 0px 1px 2px rgba(60, 64, 67, 0.3), 0px 1px 3px 1px rgba(60, 64, 67, 0.15);\n",
              "      fill: #174EA6;\n",
              "    }\n",
              "\n",
              "    [theme=dark] .colab-df-convert {\n",
              "      background-color: #3B4455;\n",
              "      fill: #D2E3FC;\n",
              "    }\n",
              "\n",
              "    [theme=dark] .colab-df-convert:hover {\n",
              "      background-color: #434B5C;\n",
              "      box-shadow: 0px 1px 3px 1px rgba(0, 0, 0, 0.15);\n",
              "      filter: drop-shadow(0px 1px 2px rgba(0, 0, 0, 0.3));\n",
              "      fill: #FFFFFF;\n",
              "    }\n",
              "  </style>\n",
              "\n",
              "      <script>\n",
              "        const buttonEl =\n",
              "          document.querySelector('#df-03cd7328-3316-4887-a6df-b41fc6af3908 button.colab-df-convert');\n",
              "        buttonEl.style.display =\n",
              "          google.colab.kernel.accessAllowed ? 'block' : 'none';\n",
              "\n",
              "        async function convertToInteractive(key) {\n",
              "          const element = document.querySelector('#df-03cd7328-3316-4887-a6df-b41fc6af3908');\n",
              "          const dataTable =\n",
              "            await google.colab.kernel.invokeFunction('convertToInteractive',\n",
              "                                                     [key], {});\n",
              "          if (!dataTable) return;\n",
              "\n",
              "          const docLinkHtml = 'Like what you see? Visit the ' +\n",
              "            '<a target=\"_blank\" href=https://colab.research.google.com/notebooks/data_table.ipynb>data table notebook</a>'\n",
              "            + ' to learn more about interactive tables.';\n",
              "          element.innerHTML = '';\n",
              "          dataTable['output_type'] = 'display_data';\n",
              "          await google.colab.output.renderOutput(dataTable, element);\n",
              "          const docLink = document.createElement('div');\n",
              "          docLink.innerHTML = docLinkHtml;\n",
              "          element.appendChild(docLink);\n",
              "        }\n",
              "      </script>\n",
              "    </div>\n",
              "  </div>\n"
            ]
          },
          "metadata": {},
          "execution_count": 163
        }
      ]
    },
    {
      "cell_type": "code",
      "source": [
        "Turkey_data=Turkey_data[['IDCUSTOMER','GENDER','CITY','FIRST_DEPOSIT_AMOUNT','REGISTRATION_DATE','DEPOSIT_DATE']]\n"
      ],
      "metadata": {
        "id": "qPWMXzUU1jdG"
      },
      "execution_count": 164,
      "outputs": []
    },
    {
      "cell_type": "code",
      "source": [
        "Turkey_data['Customer_Lifetime'] = Turkey_data['DEPOSIT_DATE'] - Turkey_data['REGISTRATION_DATE']\n"
      ],
      "metadata": {
        "id": "-mTDVrKka1dD"
      },
      "execution_count": 166,
      "outputs": []
    },
    {
      "cell_type": "code",
      "source": [
        "Turkey_data_group=Turkey_data.groupby('IDCUSTOMER').agg({'DEPOSIT_DATE': lambda date: (date.max() - date.min()).days})\n"
      ],
      "metadata": {
        "id": "1aS4LTcN1jX2"
      },
      "execution_count": 167,
      "outputs": []
    },
    {
      "cell_type": "code",
      "source": [
        "Turkey_data_group.head()\n"
      ],
      "metadata": {
        "colab": {
          "base_uri": "https://localhost:8080/",
          "height": 237
        },
        "id": "hMy_v_391jP3",
        "outputId": "c3598cbd-2286-4095-c453-3662dfa0621b"
      },
      "execution_count": 168,
      "outputs": [
        {
          "output_type": "execute_result",
          "data": {
            "text/plain": [
              "            DEPOSIT_DATE\n",
              "IDCUSTOMER              \n",
              "5075649                0\n",
              "5176235                0\n",
              "5249140                0\n",
              "5300998                0\n",
              "5371454                0"
            ],
            "text/html": [
              "\n",
              "\n",
              "  <div id=\"df-74c88786-5ba3-4a37-8246-cd9186eb544d\">\n",
              "    <div class=\"colab-df-container\">\n",
              "      <div>\n",
              "<style scoped>\n",
              "    .dataframe tbody tr th:only-of-type {\n",
              "        vertical-align: middle;\n",
              "    }\n",
              "\n",
              "    .dataframe tbody tr th {\n",
              "        vertical-align: top;\n",
              "    }\n",
              "\n",
              "    .dataframe thead th {\n",
              "        text-align: right;\n",
              "    }\n",
              "</style>\n",
              "<table border=\"1\" class=\"dataframe\">\n",
              "  <thead>\n",
              "    <tr style=\"text-align: right;\">\n",
              "      <th></th>\n",
              "      <th>DEPOSIT_DATE</th>\n",
              "    </tr>\n",
              "    <tr>\n",
              "      <th>IDCUSTOMER</th>\n",
              "      <th></th>\n",
              "    </tr>\n",
              "  </thead>\n",
              "  <tbody>\n",
              "    <tr>\n",
              "      <th>5075649</th>\n",
              "      <td>0</td>\n",
              "    </tr>\n",
              "    <tr>\n",
              "      <th>5176235</th>\n",
              "      <td>0</td>\n",
              "    </tr>\n",
              "    <tr>\n",
              "      <th>5249140</th>\n",
              "      <td>0</td>\n",
              "    </tr>\n",
              "    <tr>\n",
              "      <th>5300998</th>\n",
              "      <td>0</td>\n",
              "    </tr>\n",
              "    <tr>\n",
              "      <th>5371454</th>\n",
              "      <td>0</td>\n",
              "    </tr>\n",
              "  </tbody>\n",
              "</table>\n",
              "</div>\n",
              "      <button class=\"colab-df-convert\" onclick=\"convertToInteractive('df-74c88786-5ba3-4a37-8246-cd9186eb544d')\"\n",
              "              title=\"Convert this dataframe to an interactive table.\"\n",
              "              style=\"display:none;\">\n",
              "\n",
              "  <svg xmlns=\"http://www.w3.org/2000/svg\" height=\"24px\"viewBox=\"0 0 24 24\"\n",
              "       width=\"24px\">\n",
              "    <path d=\"M0 0h24v24H0V0z\" fill=\"none\"/>\n",
              "    <path d=\"M18.56 5.44l.94 2.06.94-2.06 2.06-.94-2.06-.94-.94-2.06-.94 2.06-2.06.94zm-11 1L8.5 8.5l.94-2.06 2.06-.94-2.06-.94L8.5 2.5l-.94 2.06-2.06.94zm10 10l.94 2.06.94-2.06 2.06-.94-2.06-.94-.94-2.06-.94 2.06-2.06.94z\"/><path d=\"M17.41 7.96l-1.37-1.37c-.4-.4-.92-.59-1.43-.59-.52 0-1.04.2-1.43.59L10.3 9.45l-7.72 7.72c-.78.78-.78 2.05 0 2.83L4 21.41c.39.39.9.59 1.41.59.51 0 1.02-.2 1.41-.59l7.78-7.78 2.81-2.81c.8-.78.8-2.07 0-2.86zM5.41 20L4 18.59l7.72-7.72 1.47 1.35L5.41 20z\"/>\n",
              "  </svg>\n",
              "      </button>\n",
              "\n",
              "\n",
              "\n",
              "    <div id=\"df-96cce010-7be6-40e4-937f-8dd5d32dfe6e\">\n",
              "      <button class=\"colab-df-quickchart\" onclick=\"quickchart('df-96cce010-7be6-40e4-937f-8dd5d32dfe6e')\"\n",
              "              title=\"Suggest charts.\"\n",
              "              style=\"display:none;\">\n",
              "\n",
              "<svg xmlns=\"http://www.w3.org/2000/svg\" height=\"24px\"viewBox=\"0 0 24 24\"\n",
              "     width=\"24px\">\n",
              "    <g>\n",
              "        <path d=\"M19 3H5c-1.1 0-2 .9-2 2v14c0 1.1.9 2 2 2h14c1.1 0 2-.9 2-2V5c0-1.1-.9-2-2-2zM9 17H7v-7h2v7zm4 0h-2V7h2v10zm4 0h-2v-4h2v4z\"/>\n",
              "    </g>\n",
              "</svg>\n",
              "      </button>\n",
              "    </div>\n",
              "\n",
              "<style>\n",
              "  .colab-df-quickchart {\n",
              "    background-color: #E8F0FE;\n",
              "    border: none;\n",
              "    border-radius: 50%;\n",
              "    cursor: pointer;\n",
              "    display: none;\n",
              "    fill: #1967D2;\n",
              "    height: 32px;\n",
              "    padding: 0 0 0 0;\n",
              "    width: 32px;\n",
              "  }\n",
              "\n",
              "  .colab-df-quickchart:hover {\n",
              "    background-color: #E2EBFA;\n",
              "    box-shadow: 0px 1px 2px rgba(60, 64, 67, 0.3), 0px 1px 3px 1px rgba(60, 64, 67, 0.15);\n",
              "    fill: #174EA6;\n",
              "  }\n",
              "\n",
              "  [theme=dark] .colab-df-quickchart {\n",
              "    background-color: #3B4455;\n",
              "    fill: #D2E3FC;\n",
              "  }\n",
              "\n",
              "  [theme=dark] .colab-df-quickchart:hover {\n",
              "    background-color: #434B5C;\n",
              "    box-shadow: 0px 1px 3px 1px rgba(0, 0, 0, 0.15);\n",
              "    filter: drop-shadow(0px 1px 2px rgba(0, 0, 0, 0.3));\n",
              "    fill: #FFFFFF;\n",
              "  }\n",
              "</style>\n",
              "\n",
              "    <script>\n",
              "      async function quickchart(key) {\n",
              "        const containerElement = document.querySelector('#' + key);\n",
              "        const charts = await google.colab.kernel.invokeFunction(\n",
              "            'suggestCharts', [key], {});\n",
              "      }\n",
              "    </script>\n",
              "\n",
              "      <script>\n",
              "\n",
              "function displayQuickchartButton(domScope) {\n",
              "  let quickchartButtonEl =\n",
              "    domScope.querySelector('#df-96cce010-7be6-40e4-937f-8dd5d32dfe6e button.colab-df-quickchart');\n",
              "  quickchartButtonEl.style.display =\n",
              "    google.colab.kernel.accessAllowed ? 'block' : 'none';\n",
              "}\n",
              "\n",
              "        displayQuickchartButton(document);\n",
              "      </script>\n",
              "      <style>\n",
              "    .colab-df-container {\n",
              "      display:flex;\n",
              "      flex-wrap:wrap;\n",
              "      gap: 12px;\n",
              "    }\n",
              "\n",
              "    .colab-df-convert {\n",
              "      background-color: #E8F0FE;\n",
              "      border: none;\n",
              "      border-radius: 50%;\n",
              "      cursor: pointer;\n",
              "      display: none;\n",
              "      fill: #1967D2;\n",
              "      height: 32px;\n",
              "      padding: 0 0 0 0;\n",
              "      width: 32px;\n",
              "    }\n",
              "\n",
              "    .colab-df-convert:hover {\n",
              "      background-color: #E2EBFA;\n",
              "      box-shadow: 0px 1px 2px rgba(60, 64, 67, 0.3), 0px 1px 3px 1px rgba(60, 64, 67, 0.15);\n",
              "      fill: #174EA6;\n",
              "    }\n",
              "\n",
              "    [theme=dark] .colab-df-convert {\n",
              "      background-color: #3B4455;\n",
              "      fill: #D2E3FC;\n",
              "    }\n",
              "\n",
              "    [theme=dark] .colab-df-convert:hover {\n",
              "      background-color: #434B5C;\n",
              "      box-shadow: 0px 1px 3px 1px rgba(0, 0, 0, 0.15);\n",
              "      filter: drop-shadow(0px 1px 2px rgba(0, 0, 0, 0.3));\n",
              "      fill: #FFFFFF;\n",
              "    }\n",
              "  </style>\n",
              "\n",
              "      <script>\n",
              "        const buttonEl =\n",
              "          document.querySelector('#df-74c88786-5ba3-4a37-8246-cd9186eb544d button.colab-df-convert');\n",
              "        buttonEl.style.display =\n",
              "          google.colab.kernel.accessAllowed ? 'block' : 'none';\n",
              "\n",
              "        async function convertToInteractive(key) {\n",
              "          const element = document.querySelector('#df-74c88786-5ba3-4a37-8246-cd9186eb544d');\n",
              "          const dataTable =\n",
              "            await google.colab.kernel.invokeFunction('convertToInteractive',\n",
              "                                                     [key], {});\n",
              "          if (!dataTable) return;\n",
              "\n",
              "          const docLinkHtml = 'Like what you see? Visit the ' +\n",
              "            '<a target=\"_blank\" href=https://colab.research.google.com/notebooks/data_table.ipynb>data table notebook</a>'\n",
              "            + ' to learn more about interactive tables.';\n",
              "          element.innerHTML = '';\n",
              "          dataTable['output_type'] = 'display_data';\n",
              "          await google.colab.output.renderOutput(dataTable, element);\n",
              "          const docLink = document.createElement('div');\n",
              "          docLink.innerHTML = docLinkHtml;\n",
              "          element.appendChild(docLink);\n",
              "        }\n",
              "      </script>\n",
              "    </div>\n",
              "  </div>\n"
            ]
          },
          "metadata": {},
          "execution_count": 168
        }
      ]
    },
    {
      "cell_type": "code",
      "source": [
        "Turkey_data.head()\n"
      ],
      "metadata": {
        "colab": {
          "base_uri": "https://localhost:8080/",
          "height": 206
        },
        "id": "l6t4Mrwmdc0w",
        "outputId": "8bc5afdc-665f-4bcb-ff57-86eeae011f2f"
      },
      "execution_count": 169,
      "outputs": [
        {
          "output_type": "execute_result",
          "data": {
            "text/plain": [
              "   IDCUSTOMER GENDER       CITY  FIRST_DEPOSIT_AMOUNT REGISTRATION_DATE  \\\n",
              "0     5075649      M     ankara                 100.0        2009-01-10   \n",
              "1     5176235      M   elazÄ±ÄŸ                 400.0        2009-03-01   \n",
              "2     5249140      M      izmir                 200.0        2009-04-06   \n",
              "3     5300998      M  ÃœskÃ¼dar                 100.0        2009-05-02   \n",
              "4     5371454      M    sakarya                 880.0        2009-06-07   \n",
              "\n",
              "  DEPOSIT_DATE Customer_Lifetime  \n",
              "0   2022-06-05         4894 days  \n",
              "1   2022-02-11         4730 days  \n",
              "2   2022-05-02         4774 days  \n",
              "3   2022-02-11         4668 days  \n",
              "4   2022-05-29         4739 days  "
            ],
            "text/html": [
              "\n",
              "\n",
              "  <div id=\"df-157b3ebb-10b8-4dc2-92b6-82f648335d2c\">\n",
              "    <div class=\"colab-df-container\">\n",
              "      <div>\n",
              "<style scoped>\n",
              "    .dataframe tbody tr th:only-of-type {\n",
              "        vertical-align: middle;\n",
              "    }\n",
              "\n",
              "    .dataframe tbody tr th {\n",
              "        vertical-align: top;\n",
              "    }\n",
              "\n",
              "    .dataframe thead th {\n",
              "        text-align: right;\n",
              "    }\n",
              "</style>\n",
              "<table border=\"1\" class=\"dataframe\">\n",
              "  <thead>\n",
              "    <tr style=\"text-align: right;\">\n",
              "      <th></th>\n",
              "      <th>IDCUSTOMER</th>\n",
              "      <th>GENDER</th>\n",
              "      <th>CITY</th>\n",
              "      <th>FIRST_DEPOSIT_AMOUNT</th>\n",
              "      <th>REGISTRATION_DATE</th>\n",
              "      <th>DEPOSIT_DATE</th>\n",
              "      <th>Customer_Lifetime</th>\n",
              "    </tr>\n",
              "  </thead>\n",
              "  <tbody>\n",
              "    <tr>\n",
              "      <th>0</th>\n",
              "      <td>5075649</td>\n",
              "      <td>M</td>\n",
              "      <td>ankara</td>\n",
              "      <td>100.0</td>\n",
              "      <td>2009-01-10</td>\n",
              "      <td>2022-06-05</td>\n",
              "      <td>4894 days</td>\n",
              "    </tr>\n",
              "    <tr>\n",
              "      <th>1</th>\n",
              "      <td>5176235</td>\n",
              "      <td>M</td>\n",
              "      <td>elazÄ±ÄŸ</td>\n",
              "      <td>400.0</td>\n",
              "      <td>2009-03-01</td>\n",
              "      <td>2022-02-11</td>\n",
              "      <td>4730 days</td>\n",
              "    </tr>\n",
              "    <tr>\n",
              "      <th>2</th>\n",
              "      <td>5249140</td>\n",
              "      <td>M</td>\n",
              "      <td>izmir</td>\n",
              "      <td>200.0</td>\n",
              "      <td>2009-04-06</td>\n",
              "      <td>2022-05-02</td>\n",
              "      <td>4774 days</td>\n",
              "    </tr>\n",
              "    <tr>\n",
              "      <th>3</th>\n",
              "      <td>5300998</td>\n",
              "      <td>M</td>\n",
              "      <td>ÃœskÃ¼dar</td>\n",
              "      <td>100.0</td>\n",
              "      <td>2009-05-02</td>\n",
              "      <td>2022-02-11</td>\n",
              "      <td>4668 days</td>\n",
              "    </tr>\n",
              "    <tr>\n",
              "      <th>4</th>\n",
              "      <td>5371454</td>\n",
              "      <td>M</td>\n",
              "      <td>sakarya</td>\n",
              "      <td>880.0</td>\n",
              "      <td>2009-06-07</td>\n",
              "      <td>2022-05-29</td>\n",
              "      <td>4739 days</td>\n",
              "    </tr>\n",
              "  </tbody>\n",
              "</table>\n",
              "</div>\n",
              "      <button class=\"colab-df-convert\" onclick=\"convertToInteractive('df-157b3ebb-10b8-4dc2-92b6-82f648335d2c')\"\n",
              "              title=\"Convert this dataframe to an interactive table.\"\n",
              "              style=\"display:none;\">\n",
              "\n",
              "  <svg xmlns=\"http://www.w3.org/2000/svg\" height=\"24px\"viewBox=\"0 0 24 24\"\n",
              "       width=\"24px\">\n",
              "    <path d=\"M0 0h24v24H0V0z\" fill=\"none\"/>\n",
              "    <path d=\"M18.56 5.44l.94 2.06.94-2.06 2.06-.94-2.06-.94-.94-2.06-.94 2.06-2.06.94zm-11 1L8.5 8.5l.94-2.06 2.06-.94-2.06-.94L8.5 2.5l-.94 2.06-2.06.94zm10 10l.94 2.06.94-2.06 2.06-.94-2.06-.94-.94-2.06-.94 2.06-2.06.94z\"/><path d=\"M17.41 7.96l-1.37-1.37c-.4-.4-.92-.59-1.43-.59-.52 0-1.04.2-1.43.59L10.3 9.45l-7.72 7.72c-.78.78-.78 2.05 0 2.83L4 21.41c.39.39.9.59 1.41.59.51 0 1.02-.2 1.41-.59l7.78-7.78 2.81-2.81c.8-.78.8-2.07 0-2.86zM5.41 20L4 18.59l7.72-7.72 1.47 1.35L5.41 20z\"/>\n",
              "  </svg>\n",
              "      </button>\n",
              "\n",
              "\n",
              "\n",
              "    <div id=\"df-127d3cef-2877-4a08-8e58-e6711f75913e\">\n",
              "      <button class=\"colab-df-quickchart\" onclick=\"quickchart('df-127d3cef-2877-4a08-8e58-e6711f75913e')\"\n",
              "              title=\"Suggest charts.\"\n",
              "              style=\"display:none;\">\n",
              "\n",
              "<svg xmlns=\"http://www.w3.org/2000/svg\" height=\"24px\"viewBox=\"0 0 24 24\"\n",
              "     width=\"24px\">\n",
              "    <g>\n",
              "        <path d=\"M19 3H5c-1.1 0-2 .9-2 2v14c0 1.1.9 2 2 2h14c1.1 0 2-.9 2-2V5c0-1.1-.9-2-2-2zM9 17H7v-7h2v7zm4 0h-2V7h2v10zm4 0h-2v-4h2v4z\"/>\n",
              "    </g>\n",
              "</svg>\n",
              "      </button>\n",
              "    </div>\n",
              "\n",
              "<style>\n",
              "  .colab-df-quickchart {\n",
              "    background-color: #E8F0FE;\n",
              "    border: none;\n",
              "    border-radius: 50%;\n",
              "    cursor: pointer;\n",
              "    display: none;\n",
              "    fill: #1967D2;\n",
              "    height: 32px;\n",
              "    padding: 0 0 0 0;\n",
              "    width: 32px;\n",
              "  }\n",
              "\n",
              "  .colab-df-quickchart:hover {\n",
              "    background-color: #E2EBFA;\n",
              "    box-shadow: 0px 1px 2px rgba(60, 64, 67, 0.3), 0px 1px 3px 1px rgba(60, 64, 67, 0.15);\n",
              "    fill: #174EA6;\n",
              "  }\n",
              "\n",
              "  [theme=dark] .colab-df-quickchart {\n",
              "    background-color: #3B4455;\n",
              "    fill: #D2E3FC;\n",
              "  }\n",
              "\n",
              "  [theme=dark] .colab-df-quickchart:hover {\n",
              "    background-color: #434B5C;\n",
              "    box-shadow: 0px 1px 3px 1px rgba(0, 0, 0, 0.15);\n",
              "    filter: drop-shadow(0px 1px 2px rgba(0, 0, 0, 0.3));\n",
              "    fill: #FFFFFF;\n",
              "  }\n",
              "</style>\n",
              "\n",
              "    <script>\n",
              "      async function quickchart(key) {\n",
              "        const containerElement = document.querySelector('#' + key);\n",
              "        const charts = await google.colab.kernel.invokeFunction(\n",
              "            'suggestCharts', [key], {});\n",
              "      }\n",
              "    </script>\n",
              "\n",
              "      <script>\n",
              "\n",
              "function displayQuickchartButton(domScope) {\n",
              "  let quickchartButtonEl =\n",
              "    domScope.querySelector('#df-127d3cef-2877-4a08-8e58-e6711f75913e button.colab-df-quickchart');\n",
              "  quickchartButtonEl.style.display =\n",
              "    google.colab.kernel.accessAllowed ? 'block' : 'none';\n",
              "}\n",
              "\n",
              "        displayQuickchartButton(document);\n",
              "      </script>\n",
              "      <style>\n",
              "    .colab-df-container {\n",
              "      display:flex;\n",
              "      flex-wrap:wrap;\n",
              "      gap: 12px;\n",
              "    }\n",
              "\n",
              "    .colab-df-convert {\n",
              "      background-color: #E8F0FE;\n",
              "      border: none;\n",
              "      border-radius: 50%;\n",
              "      cursor: pointer;\n",
              "      display: none;\n",
              "      fill: #1967D2;\n",
              "      height: 32px;\n",
              "      padding: 0 0 0 0;\n",
              "      width: 32px;\n",
              "    }\n",
              "\n",
              "    .colab-df-convert:hover {\n",
              "      background-color: #E2EBFA;\n",
              "      box-shadow: 0px 1px 2px rgba(60, 64, 67, 0.3), 0px 1px 3px 1px rgba(60, 64, 67, 0.15);\n",
              "      fill: #174EA6;\n",
              "    }\n",
              "\n",
              "    [theme=dark] .colab-df-convert {\n",
              "      background-color: #3B4455;\n",
              "      fill: #D2E3FC;\n",
              "    }\n",
              "\n",
              "    [theme=dark] .colab-df-convert:hover {\n",
              "      background-color: #434B5C;\n",
              "      box-shadow: 0px 1px 3px 1px rgba(0, 0, 0, 0.15);\n",
              "      filter: drop-shadow(0px 1px 2px rgba(0, 0, 0, 0.3));\n",
              "      fill: #FFFFFF;\n",
              "    }\n",
              "  </style>\n",
              "\n",
              "      <script>\n",
              "        const buttonEl =\n",
              "          document.querySelector('#df-157b3ebb-10b8-4dc2-92b6-82f648335d2c button.colab-df-convert');\n",
              "        buttonEl.style.display =\n",
              "          google.colab.kernel.accessAllowed ? 'block' : 'none';\n",
              "\n",
              "        async function convertToInteractive(key) {\n",
              "          const element = document.querySelector('#df-157b3ebb-10b8-4dc2-92b6-82f648335d2c');\n",
              "          const dataTable =\n",
              "            await google.colab.kernel.invokeFunction('convertToInteractive',\n",
              "                                                     [key], {});\n",
              "          if (!dataTable) return;\n",
              "\n",
              "          const docLinkHtml = 'Like what you see? Visit the ' +\n",
              "            '<a target=\"_blank\" href=https://colab.research.google.com/notebooks/data_table.ipynb>data table notebook</a>'\n",
              "            + ' to learn more about interactive tables.';\n",
              "          element.innerHTML = '';\n",
              "          dataTable['output_type'] = 'display_data';\n",
              "          await google.colab.output.renderOutput(dataTable, element);\n",
              "          const docLink = document.createElement('div');\n",
              "          docLink.innerHTML = docLinkHtml;\n",
              "          element.appendChild(docLink);\n",
              "        }\n",
              "      </script>\n",
              "    </div>\n",
              "  </div>\n"
            ]
          },
          "metadata": {},
          "execution_count": 169
        }
      ]
    },
    {
      "cell_type": "markdown",
      "source": [
        "UNIQUE"
      ],
      "metadata": {
        "id": "IfivKSckhYLS"
      }
    },
    {
      "cell_type": "code",
      "source": [
        "unique_customers = data.groupby(['CITY', 'COUNTRY'])['IDCUSTOMER'].nunique()"
      ],
      "metadata": {
        "id": "KXKCj6N8dcx3"
      },
      "execution_count": 170,
      "outputs": []
    },
    {
      "cell_type": "code",
      "source": [
        "highest_customers = unique_customers.idxmax()"
      ],
      "metadata": {
        "id": "cZhtMZHKdcvr"
      },
      "execution_count": 171,
      "outputs": []
    },
    {
      "cell_type": "code",
      "source": [
        "print(\"City with the highest number of unique customers:\", highest_customers[0])\n",
        "print(\"Country with the highest number of unique customers:\", highest_customers[1])"
      ],
      "metadata": {
        "colab": {
          "base_uri": "https://localhost:8080/"
        },
        "id": "uzEq9-B1dcs3",
        "outputId": "1949f632-d495-42e6-c280-6b2982722d35"
      },
      "execution_count": 172,
      "outputs": [
        {
          "output_type": "stream",
          "name": "stdout",
          "text": [
            "City with the highest number of unique customers: Ä°stanbul\n",
            "Country with the highest number of unique customers: Turkey\n"
          ]
        }
      ]
    },
    {
      "cell_type": "markdown",
      "source": [
        "UNIQUE COUNT"
      ],
      "metadata": {
        "id": "0tLFwzmqiVlm"
      }
    },
    {
      "cell_type": "code",
      "source": [
        "unique_players = data.groupby('COUNTRY')['IDCUSTOMER'].nunique()\n"
      ],
      "metadata": {
        "id": "SBWpbvw-dcqf"
      },
      "execution_count": 173,
      "outputs": []
    },
    {
      "cell_type": "code",
      "source": [
        "sorted_players = unique_players.sort_values(ascending=False)"
      ],
      "metadata": {
        "id": "Za0SeEH7dcn-"
      },
      "execution_count": 174,
      "outputs": []
    },
    {
      "cell_type": "code",
      "source": [
        "print(sorted_players)"
      ],
      "metadata": {
        "colab": {
          "base_uri": "https://localhost:8080/"
        },
        "id": "HWfu9iHIdclZ",
        "outputId": "5ed934cc-bb5e-44e5-9442-a288fce04309"
      },
      "execution_count": 175,
      "outputs": [
        {
          "output_type": "stream",
          "name": "stdout",
          "text": [
            "COUNTRY\n",
            "Turkey    22065\n",
            "Name: IDCUSTOMER, dtype: int64\n"
          ]
        }
      ]
    },
    {
      "cell_type": "code",
      "source": [
        "target_city = 'Kayseri'"
      ],
      "metadata": {
        "id": "63RHcuJYdcij"
      },
      "execution_count": 176,
      "outputs": []
    },
    {
      "cell_type": "code",
      "source": [
        "city_data = data[data['CITY'] == target_city]"
      ],
      "metadata": {
        "id": "NuRo6Fk5dcf9"
      },
      "execution_count": 177,
      "outputs": []
    },
    {
      "cell_type": "code",
      "source": [
        "unique_players_count = city_data['IDCUSTOMER'].nunique()"
      ],
      "metadata": {
        "id": "XK9wJg9_dcdJ"
      },
      "execution_count": 178,
      "outputs": []
    },
    {
      "cell_type": "code",
      "source": [
        "print(\"Number of unique players in\", target_city, \":\", unique_players_count)"
      ],
      "metadata": {
        "colab": {
          "base_uri": "https://localhost:8080/"
        },
        "id": "7iLVJuUedcaa",
        "outputId": "ddb96a72-f441-4352-ba2b-1e6a14542a84"
      },
      "execution_count": 179,
      "outputs": [
        {
          "output_type": "stream",
          "name": "stdout",
          "text": [
            "Number of unique players in Kayseri : 369\n"
          ]
        }
      ]
    },
    {
      "cell_type": "markdown",
      "source": [
        "AVG DEPOSIT"
      ],
      "metadata": {
        "id": "amXQaDjYkiF9"
      }
    },
    {
      "cell_type": "code",
      "source": [
        "avg_deposit = data.groupby('CITY')['FIRST_DEPOSIT_AMOUNT'].mean()\n"
      ],
      "metadata": {
        "id": "CzjUyp5jdcXn"
      },
      "execution_count": 180,
      "outputs": []
    },
    {
      "cell_type": "code",
      "source": [
        "sorted_avg = avg_deposit.sort_values(ascending=False)"
      ],
      "metadata": {
        "id": "ZgaxRsEZdcVC"
      },
      "execution_count": 181,
      "outputs": []
    },
    {
      "cell_type": "code",
      "source": [
        "third_city = sorted_avg.index[2]"
      ],
      "metadata": {
        "id": "vvcMvsR-dcSK"
      },
      "execution_count": 182,
      "outputs": []
    },
    {
      "cell_type": "code",
      "source": [
        "third_avg_amount = sorted_avg.iloc[2]"
      ],
      "metadata": {
        "id": "v6lZEsNWdcOf"
      },
      "execution_count": 183,
      "outputs": []
    },
    {
      "cell_type": "code",
      "source": [
        "print(\"City with the third-highest average deposit:\", third_city)\n",
        "print(\"Average deposit amount:\", third_avg_amount)"
      ],
      "metadata": {
        "colab": {
          "base_uri": "https://localhost:8080/"
        },
        "id": "-AB5l1lhdcK5",
        "outputId": "1009cbee-4519-43a3-c239-67c87f304bba"
      },
      "execution_count": 184,
      "outputs": [
        {
          "output_type": "stream",
          "name": "stdout",
          "text": [
            "City with the third-highest average deposit: sarÄ±Ã§am/Adana\n",
            "Average deposit amount: 9000.0\n"
          ]
        }
      ]
    },
    {
      "cell_type": "markdown",
      "source": [
        "GRAPH"
      ],
      "metadata": {
        "id": "lAA6T1ewmDMx"
      }
    },
    {
      "cell_type": "code",
      "source": [
        "unique_customers = data.groupby('CITY')['IDCUSTOMER'].nunique()"
      ],
      "metadata": {
        "id": "KvKGWMIhmCx7"
      },
      "execution_count": 185,
      "outputs": []
    },
    {
      "cell_type": "code",
      "source": [
        "sorted_customers = unique_customers.sort_values(ascending=False)"
      ],
      "metadata": {
        "id": "5ZJjEKJ8q3J1"
      },
      "execution_count": 186,
      "outputs": []
    },
    {
      "cell_type": "code",
      "source": [
        "import matplotlib.pyplot as plt\n",
        "top_40_cities = sorted_customers.head(40)"
      ],
      "metadata": {
        "id": "yTF6XwM4dcFp"
      },
      "execution_count": 187,
      "outputs": []
    },
    {
      "cell_type": "code",
      "source": [
        "plt.figure(figsize=(13, 7))\n",
        "plt.bar(top_40_cities.index, top_40_cities.values)\n",
        "plt.xlabel('CITY')\n",
        "plt.ylabel('Unique Customer Count')\n",
        "plt.title('Top 40 Cities by Unique Customer Count')\n",
        "plt.xticks(rotation=45)\n",
        "plt.tight_layout()\n",
        "plt.show()"
      ],
      "metadata": {
        "colab": {
          "base_uri": "https://localhost:8080/",
          "height": 613
        },
        "id": "GERfwvZqdcCm",
        "outputId": "f1f285e0-08d2-4568-9bfc-f603e1226a71"
      },
      "execution_count": 188,
      "outputs": [
        {
          "output_type": "display_data",
          "data": {
            "text/plain": [
              "<Figure size 1300x700 with 1 Axes>"
            ],
            "image/png": "[encoded data removed]"
          },
          "metadata": {}
        }
      ]
    },
    {
      "cell_type": "markdown",
      "source": [
        "conversion for each month"
      ],
      "metadata": {
        "id": "dxUI06jLsSg1"
      }
    },
    {
      "cell_type": "code",
      "source": [
        "data['REGISTRATION_DATE'] = pd.to_datetime(data['REGISTRATION_DATE'])\n",
        "data['DEPOSIT_DATE'] = pd.to_datetime(data['DEPOSIT_DATE'])"
      ],
      "metadata": {
        "id": "PjhEcl9bdcAR"
      },
      "execution_count": 201,
      "outputs": []
    },
    {
      "cell_type": "code",
      "source": [
        "data['YearMonth'] = data['DEPOSIT_DATE'].dt.to_period('M')"
      ],
      "metadata": {
        "id": "gmySC7aMdb-I"
      },
      "execution_count": 202,
      "outputs": []
    },
    {
      "cell_type": "code",
      "source": [
        "unique_REGISTERATIONS = data['REGISTRATION_DATE'].dt.to_period('M').nunique()\n",
        "unique_DEPOSITS = data['DEPOSIT_DATE'].dt.to_period('M').nunique()\n"
      ],
      "metadata": {
        "id": "YtRQVepbdb6-"
      },
      "execution_count": 203,
      "outputs": []
    },
    {
      "cell_type": "code",
      "source": [
        "conversion_percentage = (unique_DEPOSITS/ unique_REGISTERATIONS) * 100"
      ],
      "metadata": {
        "id": "C4oijUTidb4Q"
      },
      "execution_count": 204,
      "outputs": []
    },
    {
      "cell_type": "code",
      "source": [
        "plt.figure(figsize=(10, 6))\n",
        "plt.bar(conversion_percentage.index.strftime('%Y-%m'), conversion_percentage, color='red')\n",
        "plt.xlabel('Year & Month')\n",
        "plt.ylabel('Conversion Percentage')\n",
        "plt.title('Conversion Percentage by Month')\n",
        "plt.xticks(rotation=45)\n",
        "plt.tight_layout()\n",
        "plt.show()"
      ],
      "metadata": {
        "colab": {
          "base_uri": "https://localhost:8080/",
          "height": 252
        },
        "id": "XMgxPnGBdby7",
        "outputId": "3eaf3958-5963-4a33-cdd3-5b3ac0025bf7"
      },
      "execution_count": 205,
      "outputs": [
        {
          "output_type": "error",
          "ename": "AttributeError",
          "evalue": "ignored",
          "traceback": [
            "\u001b[0;31m---------------------------------------------------------------------------\u001b[0m",
            "\u001b[0;31mAttributeError\u001b[0m                            Traceback (most recent call last)",
            "\u001b[0;32m<ipython-input-205-b99fea53825c>\u001b[0m in \u001b[0;36m<cell line: 2>\u001b[0;34m()\u001b[0m\n\u001b[1;32m      1\u001b[0m \u001b[0mplt\u001b[0m\u001b[0;34m.\u001b[0m\u001b[0mfigure\u001b[0m\u001b[0;34m(\u001b[0m\u001b[0mfigsize\u001b[0m\u001b[0;34m=\u001b[0m\u001b[0;34m(\u001b[0m\u001b[0;36m10\u001b[0m\u001b[0;34m,\u001b[0m \u001b[0;36m6\u001b[0m\u001b[0;34m)\u001b[0m\u001b[0;34m)\u001b[0m\u001b[0;34m\u001b[0m\u001b[0;34m\u001b[0m\u001b[0m\n\u001b[0;32m----> 2\u001b[0;31m \u001b[0mplt\u001b[0m\u001b[0;34m.\u001b[0m\u001b[0mbar\u001b[0m\u001b[0;34m(\u001b[0m\u001b[0mconversion_percentage\u001b[0m\u001b[0;34m.\u001b[0m\u001b[0mindex\u001b[0m\u001b[0;34m.\u001b[0m\u001b[0mstrftime\u001b[0m\u001b[0;34m(\u001b[0m\u001b[0;34m'%Y-%m'\u001b[0m\u001b[0;34m)\u001b[0m\u001b[0;34m,\u001b[0m \u001b[0mconversion_percentage\u001b[0m\u001b[0;34m,\u001b[0m \u001b[0mcolor\u001b[0m\u001b[0;34m=\u001b[0m\u001b[0;34m'red'\u001b[0m\u001b[0;34m)\u001b[0m\u001b[0;34m\u001b[0m\u001b[0;34m\u001b[0m\u001b[0m\n\u001b[0m\u001b[1;32m      3\u001b[0m \u001b[0mplt\u001b[0m\u001b[0;34m.\u001b[0m\u001b[0mxlabel\u001b[0m\u001b[0;34m(\u001b[0m\u001b[0;34m'Year & Month'\u001b[0m\u001b[0;34m)\u001b[0m\u001b[0;34m\u001b[0m\u001b[0;34m\u001b[0m\u001b[0m\n\u001b[1;32m      4\u001b[0m \u001b[0mplt\u001b[0m\u001b[0;34m.\u001b[0m\u001b[0mylabel\u001b[0m\u001b[0;34m(\u001b[0m\u001b[0;34m'Conversion Percentage'\u001b[0m\u001b[0;34m)\u001b[0m\u001b[0;34m\u001b[0m\u001b[0;34m\u001b[0m\u001b[0m\n\u001b[1;32m      5\u001b[0m \u001b[0mplt\u001b[0m\u001b[0;34m.\u001b[0m\u001b[0mtitle\u001b[0m\u001b[0;34m(\u001b[0m\u001b[0;34m'Conversion Percentage by Month'\u001b[0m\u001b[0;34m)\u001b[0m\u001b[0;34m\u001b[0m\u001b[0;34m\u001b[0m\u001b[0m\n",
            "\u001b[0;31mAttributeError\u001b[0m: 'float' object has no attribute 'index'"
          ]
        },
        {
          "output_type": "display_data",
          "data": {
            "text/plain": [
              "<Figure size 1000x600 with 0 Axes>"
            ]
          },
          "metadata": {}
        }
      ]
    },
    {
      "cell_type": "code",
      "source": [
        "data['YearMonth'] = pd.to_datetime(data['DEPOSIT_DATE']).dt.to_period('M')\n"
      ],
      "metadata": {
        "id": "KgFv-ai6x9ZV"
      },
      "execution_count": 206,
      "outputs": []
    },
    {
      "cell_type": "code",
      "source": [
        "grouped_data = data.groupby('YearMonth').agg({'FIRST_DEPOSIT_AMOUNT': 'nunique', 'REGISTRATION_DATE': 'nunique'})"
      ],
      "metadata": {
        "id": "lW0Xwv6Nx9Vq"
      },
      "execution_count": 207,
      "outputs": []
    },
    {
      "cell_type": "code",
      "source": [
        "grouped_data['Conversion_Percentage'] = (grouped_data['FIRST_DEPOSIT_AMOUNT'] / grouped_data['REGISTRATION_DATE']) * 100"
      ],
      "metadata": {
        "id": "bqYxyvGkx9Ti"
      },
      "execution_count": 208,
      "outputs": []
    },
    {
      "cell_type": "markdown",
      "source": [
        "CONVERSIONAL RATE IN 2022"
      ],
      "metadata": {
        "id": "2abhXUZM5Ysx"
      }
    },
    {
      "cell_type": "code",
      "source": [
        "data['YearMonth'] = pd.to_datetime(data['DEPOSIT_DATE']).dt.to_period('M')\n"
      ],
      "metadata": {
        "id": "IbE_W6xlx9Oj"
      },
      "execution_count": 209,
      "outputs": []
    },
    {
      "cell_type": "code",
      "source": [
        "june_2022_data = data[data['YearMonth'] == '2022-06']\n"
      ],
      "metadata": {
        "id": "kpZ6uI-hx9Me"
      },
      "execution_count": 210,
      "outputs": []
    },
    {
      "cell_type": "code",
      "source": [
        "unique_first_deposits = june_2022_data['FIRST_DEPOSIT_AMOUNT'].nunique()\n",
        "unique_registrations = june_2022_data['REGISTRATION_DATE'].nunique()"
      ],
      "metadata": {
        "id": "2hU3fb2ux9KL"
      },
      "execution_count": 211,
      "outputs": []
    },
    {
      "cell_type": "code",
      "source": [
        "conversion_rate = (unique_first_deposits / unique_registrations) * 100"
      ],
      "metadata": {
        "id": "bTFMe08Qx9HZ"
      },
      "execution_count": 212,
      "outputs": []
    },
    {
      "cell_type": "code",
      "source": [
        "conversion_rate = round(conversion_rate, 2)"
      ],
      "metadata": {
        "id": "B42wMVERx9Fa"
      },
      "execution_count": 213,
      "outputs": []
    },
    {
      "cell_type": "code",
      "source": [
        "print(f\"The conversion rate in June 2022 is: {conversion_rate}%\")"
      ],
      "metadata": {
        "id": "MgW59QV-x9D6",
        "colab": {
          "base_uri": "https://localhost:8080/"
        },
        "outputId": "5217ab8e-5422-4518-f59a-258bb71a4cda"
      },
      "execution_count": 214,
      "outputs": [
        {
          "output_type": "stream",
          "name": "stdout",
          "text": [
            "The conversion rate in June 2022 is: 87.7%\n"
          ]
        }
      ]
    },
    {
      "cell_type": "markdown",
      "source": [
        "WEEK DAY"
      ],
      "metadata": {
        "id": "dOPn4X5t71gh"
      }
    },
    {
      "cell_type": "code",
      "source": [
        "df_ft = pd.read_excel('assignment_python.xlsx')"
      ],
      "metadata": {
        "id": "OCedA4AN-ZUN"
      },
      "execution_count": 215,
      "outputs": []
    },
    {
      "cell_type": "code",
      "source": [
        "df_ft['DEPOSIT_DATE'] = pd.to_datetime(df_ft['DEPOSIT_DATE'])"
      ],
      "metadata": {
        "id": "V6_0Zs0cx9Ba"
      },
      "execution_count": 216,
      "outputs": []
    },
    {
      "cell_type": "code",
      "source": [
        "df_ft['Week of Day'] = df_ft['DEPOSIT_DATE'].dt.day_name()"
      ],
      "metadata": {
        "id": "L7eY5ecWx88C"
      },
      "execution_count": 217,
      "outputs": []
    },
    {
      "cell_type": "code",
      "source": [
        "statistics = df_ft.describe()"
      ],
      "metadata": {
        "id": "pSMUHleZx85v"
      },
      "execution_count": 218,
      "outputs": []
    },
    {
      "cell_type": "code",
      "source": [
        "bins = [0, 500, 1000, 1500, 2000, 2500]"
      ],
      "metadata": {
        "id": "jsViwx_Hx83h"
      },
      "execution_count": 219,
      "outputs": []
    },
    {
      "cell_type": "code",
      "source": [
        "labels = ['0-500', '500-1000', '1000-1500', '1500-2000', '2000-2500']\n"
      ],
      "metadata": {
        "id": "x2jNC5fix811"
      },
      "execution_count": 220,
      "outputs": []
    },
    {
      "cell_type": "code",
      "source": [
        "df_ft['Deposit Amount Bins'] = pd.cut(df_ft['FIRST_DEPOSIT_AMOUNT'], bins=bins, labels=labels)"
      ],
      "metadata": {
        "id": "rJEotINux80m"
      },
      "execution_count": 221,
      "outputs": []
    },
    {
      "cell_type": "code",
      "source": [
        "df_ft.head()"
      ],
      "metadata": {
        "id": "RbMF_ls1x8ye",
        "colab": {
          "base_uri": "https://localhost:8080/",
          "height": 206
        },
        "outputId": "e2bff0e6-8c1a-40d6-8d4f-8666416dda59"
      },
      "execution_count": 222,
      "outputs": [
        {
          "output_type": "execute_result",
          "data": {
            "text/plain": [
              "   IDCUSTOMER GENDER       CITY COUNTRY  FIRST_DEPOSIT_AMOUNT  \\\n",
              "0     5075649      M     ankara  Turkey                 100.0   \n",
              "1     5176235      M   elazÄ±ÄŸ  Turkey                 400.0   \n",
              "2     5249140      M      izmir  Turkey                 200.0   \n",
              "3     5300998      M  ÃœskÃ¼dar  Turkey                 100.0   \n",
              "4     5371454      M    sakarya  Turkey                 880.0   \n",
              "\n",
              "  REGISTRATION_DATE DEPOSIT_DATE Week of Day Deposit Amount Bins  \n",
              "0        2009-01-10   2022-06-05      Sunday               0-500  \n",
              "1        2009-03-01   2022-02-11      Friday               0-500  \n",
              "2        2009-04-06   2022-05-02      Monday               0-500  \n",
              "3        2009-05-02   2022-02-11      Friday               0-500  \n",
              "4        2009-06-07   2022-05-29      Sunday            500-1000  "
            ],
            "text/html": [
              "\n",
              "\n",
              "  <div id=\"df-16773edc-30b6-4dff-8f72-24cc51c0018c\">\n",
              "    <div class=\"colab-df-container\">\n",
              "      <div>\n",
              "<style scoped>\n",
              "    .dataframe tbody tr th:only-of-type {\n",
              "        vertical-align: middle;\n",
              "    }\n",
              "\n",
              "    .dataframe tbody tr th {\n",
              "        vertical-align: top;\n",
              "    }\n",
              "\n",
              "    .dataframe thead th {\n",
              "        text-align: right;\n",
              "    }\n",
              "</style>\n",
              "<table border=\"1\" class=\"dataframe\">\n",
              "  <thead>\n",
              "    <tr style=\"text-align: right;\">\n",
              "      <th></th>\n",
              "      <th>IDCUSTOMER</th>\n",
              "      <th>GENDER</th>\n",
              "      <th>CITY</th>\n",
              "      <th>COUNTRY</th>\n",
              "      <th>FIRST_DEPOSIT_AMOUNT</th>\n",
              "      <th>REGISTRATION_DATE</th>\n",
              "      <th>DEPOSIT_DATE</th>\n",
              "      <th>Week of Day</th>\n",
              "      <th>Deposit Amount Bins</th>\n",
              "    </tr>\n",
              "  </thead>\n",
              "  <tbody>\n",
              "    <tr>\n",
              "      <th>0</th>\n",
              "      <td>5075649</td>\n",
              "      <td>M</td>\n",
              "      <td>ankara</td>\n",
              "      <td>Turkey</td>\n",
              "      <td>100.0</td>\n",
              "      <td>2009-01-10</td>\n",
              "      <td>2022-06-05</td>\n",
              "      <td>Sunday</td>\n",
              "      <td>0-500</td>\n",
              "    </tr>\n",
              "    <tr>\n",
              "      <th>1</th>\n",
              "      <td>5176235</td>\n",
              "      <td>M</td>\n",
              "      <td>elazÄ±ÄŸ</td>\n",
              "      <td>Turkey</td>\n",
              "      <td>400.0</td>\n",
              "      <td>2009-03-01</td>\n",
              "      <td>2022-02-11</td>\n",
              "      <td>Friday</td>\n",
              "      <td>0-500</td>\n",
              "    </tr>\n",
              "    <tr>\n",
              "      <th>2</th>\n",
              "      <td>5249140</td>\n",
              "      <td>M</td>\n",
              "      <td>izmir</td>\n",
              "      <td>Turkey</td>\n",
              "      <td>200.0</td>\n",
              "      <td>2009-04-06</td>\n",
              "      <td>2022-05-02</td>\n",
              "      <td>Monday</td>\n",
              "      <td>0-500</td>\n",
              "    </tr>\n",
              "    <tr>\n",
              "      <th>3</th>\n",
              "      <td>5300998</td>\n",
              "      <td>M</td>\n",
              "      <td>ÃœskÃ¼dar</td>\n",
              "      <td>Turkey</td>\n",
              "      <td>100.0</td>\n",
              "      <td>2009-05-02</td>\n",
              "      <td>2022-02-11</td>\n",
              "      <td>Friday</td>\n",
              "      <td>0-500</td>\n",
              "    </tr>\n",
              "    <tr>\n",
              "      <th>4</th>\n",
              "      <td>5371454</td>\n",
              "      <td>M</td>\n",
              "      <td>sakarya</td>\n",
              "      <td>Turkey</td>\n",
              "      <td>880.0</td>\n",
              "      <td>2009-06-07</td>\n",
              "      <td>2022-05-29</td>\n",
              "      <td>Sunday</td>\n",
              "      <td>500-1000</td>\n",
              "    </tr>\n",
              "  </tbody>\n",
              "</table>\n",
              "</div>\n",
              "      <button class=\"colab-df-convert\" onclick=\"convertToInteractive('df-16773edc-30b6-4dff-8f72-24cc51c0018c')\"\n",
              "              title=\"Convert this dataframe to an interactive table.\"\n",
              "              style=\"display:none;\">\n",
              "\n",
              "  <svg xmlns=\"http://www.w3.org/2000/svg\" height=\"24px\"viewBox=\"0 0 24 24\"\n",
              "       width=\"24px\">\n",
              "    <path d=\"M0 0h24v24H0V0z\" fill=\"none\"/>\n",
              "    <path d=\"M18.56 5.44l.94 2.06.94-2.06 2.06-.94-2.06-.94-.94-2.06-.94 2.06-2.06.94zm-11 1L8.5 8.5l.94-2.06 2.06-.94-2.06-.94L8.5 2.5l-.94 2.06-2.06.94zm10 10l.94 2.06.94-2.06 2.06-.94-2.06-.94-.94-2.06-.94 2.06-2.06.94z\"/><path d=\"M17.41 7.96l-1.37-1.37c-.4-.4-.92-.59-1.43-.59-.52 0-1.04.2-1.43.59L10.3 9.45l-7.72 7.72c-.78.78-.78 2.05 0 2.83L4 21.41c.39.39.9.59 1.41.59.51 0 1.02-.2 1.41-.59l7.78-7.78 2.81-2.81c.8-.78.8-2.07 0-2.86zM5.41 20L4 18.59l7.72-7.72 1.47 1.35L5.41 20z\"/>\n",
              "  </svg>\n",
              "      </button>\n",
              "\n",
              "\n",
              "\n",
              "    <div id=\"df-eac71452-60a9-4039-8c27-04cdea92cd3c\">\n",
              "      <button class=\"colab-df-quickchart\" onclick=\"quickchart('df-eac71452-60a9-4039-8c27-04cdea92cd3c')\"\n",
              "              title=\"Suggest charts.\"\n",
              "              style=\"display:none;\">\n",
              "\n",
              "<svg xmlns=\"http://www.w3.org/2000/svg\" height=\"24px\"viewBox=\"0 0 24 24\"\n",
              "     width=\"24px\">\n",
              "    <g>\n",
              "        <path d=\"M19 3H5c-1.1 0-2 .9-2 2v14c0 1.1.9 2 2 2h14c1.1 0 2-.9 2-2V5c0-1.1-.9-2-2-2zM9 17H7v-7h2v7zm4 0h-2V7h2v10zm4 0h-2v-4h2v4z\"/>\n",
              "    </g>\n",
              "</svg>\n",
              "      </button>\n",
              "    </div>\n",
              "\n",
              "<style>\n",
              "  .colab-df-quickchart {\n",
              "    background-color: #E8F0FE;\n",
              "    border: none;\n",
              "    border-radius: 50%;\n",
              "    cursor: pointer;\n",
              "    display: none;\n",
              "    fill: #1967D2;\n",
              "    height: 32px;\n",
              "    padding: 0 0 0 0;\n",
              "    width: 32px;\n",
              "  }\n",
              "\n",
              "  .colab-df-quickchart:hover {\n",
              "    background-color: #E2EBFA;\n",
              "    box-shadow: 0px 1px 2px rgba(60, 64, 67, 0.3), 0px 1px 3px 1px rgba(60, 64, 67, 0.15);\n",
              "    fill: #174EA6;\n",
              "  }\n",
              "\n",
              "  [theme=dark] .colab-df-quickchart {\n",
              "    background-color: #3B4455;\n",
              "    fill: #D2E3FC;\n",
              "  }\n",
              "\n",
              "  [theme=dark] .colab-df-quickchart:hover {\n",
              "    background-color: #434B5C;\n",
              "    box-shadow: 0px 1px 3px 1px rgba(0, 0, 0, 0.15);\n",
              "    filter: drop-shadow(0px 1px 2px rgba(0, 0, 0, 0.3));\n",
              "    fill: #FFFFFF;\n",
              "  }\n",
              "</style>\n",
              "\n",
              "    <script>\n",
              "      async function quickchart(key) {\n",
              "        const containerElement = document.querySelector('#' + key);\n",
              "        const charts = await google.colab.kernel.invokeFunction(\n",
              "            'suggestCharts', [key], {});\n",
              "      }\n",
              "    </script>\n",
              "\n",
              "      <script>\n",
              "\n",
              "function displayQuickchartButton(domScope) {\n",
              "  let quickchartButtonEl =\n",
              "    domScope.querySelector('#df-eac71452-60a9-4039-8c27-04cdea92cd3c button.colab-df-quickchart');\n",
              "  quickchartButtonEl.style.display =\n",
              "    google.colab.kernel.accessAllowed ? 'block' : 'none';\n",
              "}\n",
              "\n",
              "        displayQuickchartButton(document);\n",
              "      </script>\n",
              "      <style>\n",
              "    .colab-df-container {\n",
              "      display:flex;\n",
              "      flex-wrap:wrap;\n",
              "      gap: 12px;\n",
              "    }\n",
              "\n",
              "    .colab-df-convert {\n",
              "      background-color: #E8F0FE;\n",
              "      border: none;\n",
              "      border-radius: 50%;\n",
              "      cursor: pointer;\n",
              "      display: none;\n",
              "      fill: #1967D2;\n",
              "      height: 32px;\n",
              "      padding: 0 0 0 0;\n",
              "      width: 32px;\n",
              "    }\n",
              "\n",
              "    .colab-df-convert:hover {\n",
              "      background-color: #E2EBFA;\n",
              "      box-shadow: 0px 1px 2px rgba(60, 64, 67, 0.3), 0px 1px 3px 1px rgba(60, 64, 67, 0.15);\n",
              "      fill: #174EA6;\n",
              "    }\n",
              "\n",
              "    [theme=dark] .colab-df-convert {\n",
              "      background-color: #3B4455;\n",
              "      fill: #D2E3FC;\n",
              "    }\n",
              "\n",
              "    [theme=dark] .colab-df-convert:hover {\n",
              "      background-color: #434B5C;\n",
              "      box-shadow: 0px 1px 3px 1px rgba(0, 0, 0, 0.15);\n",
              "      filter: drop-shadow(0px 1px 2px rgba(0, 0, 0, 0.3));\n",
              "      fill: #FFFFFF;\n",
              "    }\n",
              "  </style>\n",
              "\n",
              "      <script>\n",
              "        const buttonEl =\n",
              "          document.querySelector('#df-16773edc-30b6-4dff-8f72-24cc51c0018c button.colab-df-convert');\n",
              "        buttonEl.style.display =\n",
              "          google.colab.kernel.accessAllowed ? 'block' : 'none';\n",
              "\n",
              "        async function convertToInteractive(key) {\n",
              "          const element = document.querySelector('#df-16773edc-30b6-4dff-8f72-24cc51c0018c');\n",
              "          const dataTable =\n",
              "            await google.colab.kernel.invokeFunction('convertToInteractive',\n",
              "                                                     [key], {});\n",
              "          if (!dataTable) return;\n",
              "\n",
              "          const docLinkHtml = 'Like what you see? Visit the ' +\n",
              "            '<a target=\"_blank\" href=https://colab.research.google.com/notebooks/data_table.ipynb>data table notebook</a>'\n",
              "            + ' to learn more about interactive tables.';\n",
              "          element.innerHTML = '';\n",
              "          dataTable['output_type'] = 'display_data';\n",
              "          await google.colab.output.renderOutput(dataTable, element);\n",
              "          const docLink = document.createElement('div');\n",
              "          docLink.innerHTML = docLinkHtml;\n",
              "          element.appendChild(docLink);\n",
              "        }\n",
              "      </script>\n",
              "    </div>\n",
              "  </div>\n"
            ]
          },
          "metadata": {},
          "execution_count": 222
        }
      ]
    },
    {
      "cell_type": "markdown",
      "source": [
        "7 DAYS MOVING AVERAGE"
      ],
      "metadata": {
        "id": "oDKJJwZK--9z"
      }
    },
    {
      "cell_type": "code",
      "source": [
        "data['REGISTRATION_DATE'] = pd.to_datetime(data['REGISTRATION_DATE'])"
      ],
      "metadata": {
        "id": "i2SyPBw4x8vV"
      },
      "execution_count": 241,
      "outputs": []
    },
    {
      "cell_type": "code",
      "source": [
        "registrations_per_day = data.groupby('REGISTRATION_DATE').size()"
      ],
      "metadata": {
        "id": "C-_uXZkyx8tS"
      },
      "execution_count": 242,
      "outputs": []
    },
    {
      "cell_type": "code",
      "source": [
        "moving_average = registrations_per_day.rolling(window=7).mean()"
      ],
      "metadata": {
        "id": "eirzwenTx8rY"
      },
      "execution_count": 243,
      "outputs": []
    },
    {
      "cell_type": "code",
      "source": [
        "print(moving_average)"
      ],
      "metadata": {
        "id": "0LVWrZvex8lU",
        "colab": {
          "base_uri": "https://localhost:8080/"
        },
        "outputId": "89765101-6e07-4dba-817c-611e4b84184c"
      },
      "execution_count": 247,
      "outputs": [
        {
          "output_type": "stream",
          "name": "stdout",
          "text": [
            "REGISTRATION_DATE\n",
            "2009-01-10          NaN\n",
            "2009-03-01          NaN\n",
            "2009-04-06          NaN\n",
            "2009-05-02          NaN\n",
            "2009-06-07          NaN\n",
            "                ...    \n",
            "2022-08-27    69.714286\n",
            "2022-08-28    72.285714\n",
            "2022-08-29    69.857143\n",
            "2022-08-30    67.571429\n",
            "2022-08-31    66.571429\n",
            "Length: 1417, dtype: float64\n"
          ]
        }
      ]
    },
    {
      "cell_type": "code",
      "source": [],
      "metadata": {
        "id": "qnyb_DYkx8i1"
      },
      "execution_count": null,
      "outputs": []
    }
  ]
}